{
 "cells": [
  {
   "cell_type": "code",
   "execution_count": 1,
   "metadata": {},
   "outputs": [],
   "source": [
    "import warnings\n",
    "warnings.filterwarnings('always')\n",
    "warnings.filterwarnings('ignore')"
   ]
  },
  {
   "cell_type": "code",
   "execution_count": 3,
   "metadata": {},
   "outputs": [],
   "source": [
    "import numpy as np\n",
    "import matplotlib.pyplot as plt\n",
    "import pandas as pd\n",
    "import seaborn as sns\n",
    "import xgboost"
   ]
  },
  {
   "cell_type": "code",
   "execution_count": 3,
   "metadata": {},
   "outputs": [],
   "source": [
    "train = pd.read_csv(r'C:\\Users\\user\\Desktop\\kaggle housing price\\train.csv')\n",
    "test = pd.read_csv(r'C:\\Users\\user\\Desktop\\kaggle housing price\\test.csv')"
   ]
  },
  {
   "cell_type": "code",
   "execution_count": 6,
   "metadata": {},
   "outputs": [
    {
     "data": {
      "text/html": [
       "<div>\n",
       "<table border=\"1\" class=\"dataframe\">\n",
       "  <thead>\n",
       "    <tr style=\"text-align: right;\">\n",
       "      <th></th>\n",
       "      <th>Id</th>\n",
       "      <th>MSSubClass</th>\n",
       "      <th>MSZoning</th>\n",
       "      <th>LotFrontage</th>\n",
       "      <th>LotArea</th>\n",
       "      <th>Street</th>\n",
       "      <th>Alley</th>\n",
       "      <th>LotShape</th>\n",
       "      <th>LandContour</th>\n",
       "      <th>Utilities</th>\n",
       "      <th>...</th>\n",
       "      <th>PoolArea</th>\n",
       "      <th>PoolQC</th>\n",
       "      <th>Fence</th>\n",
       "      <th>MiscFeature</th>\n",
       "      <th>MiscVal</th>\n",
       "      <th>MoSold</th>\n",
       "      <th>YrSold</th>\n",
       "      <th>SaleType</th>\n",
       "      <th>SaleCondition</th>\n",
       "      <th>SalePrice</th>\n",
       "    </tr>\n",
       "  </thead>\n",
       "  <tbody>\n",
       "    <tr>\n",
       "      <th>0</th>\n",
       "      <td>1</td>\n",
       "      <td>60</td>\n",
       "      <td>RL</td>\n",
       "      <td>65.0</td>\n",
       "      <td>8450</td>\n",
       "      <td>Pave</td>\n",
       "      <td>NaN</td>\n",
       "      <td>Reg</td>\n",
       "      <td>Lvl</td>\n",
       "      <td>AllPub</td>\n",
       "      <td>...</td>\n",
       "      <td>0</td>\n",
       "      <td>NaN</td>\n",
       "      <td>NaN</td>\n",
       "      <td>NaN</td>\n",
       "      <td>0</td>\n",
       "      <td>2</td>\n",
       "      <td>2008</td>\n",
       "      <td>WD</td>\n",
       "      <td>Normal</td>\n",
       "      <td>208500</td>\n",
       "    </tr>\n",
       "    <tr>\n",
       "      <th>1</th>\n",
       "      <td>2</td>\n",
       "      <td>20</td>\n",
       "      <td>RL</td>\n",
       "      <td>80.0</td>\n",
       "      <td>9600</td>\n",
       "      <td>Pave</td>\n",
       "      <td>NaN</td>\n",
       "      <td>Reg</td>\n",
       "      <td>Lvl</td>\n",
       "      <td>AllPub</td>\n",
       "      <td>...</td>\n",
       "      <td>0</td>\n",
       "      <td>NaN</td>\n",
       "      <td>NaN</td>\n",
       "      <td>NaN</td>\n",
       "      <td>0</td>\n",
       "      <td>5</td>\n",
       "      <td>2007</td>\n",
       "      <td>WD</td>\n",
       "      <td>Normal</td>\n",
       "      <td>181500</td>\n",
       "    </tr>\n",
       "    <tr>\n",
       "      <th>2</th>\n",
       "      <td>3</td>\n",
       "      <td>60</td>\n",
       "      <td>RL</td>\n",
       "      <td>68.0</td>\n",
       "      <td>11250</td>\n",
       "      <td>Pave</td>\n",
       "      <td>NaN</td>\n",
       "      <td>IR1</td>\n",
       "      <td>Lvl</td>\n",
       "      <td>AllPub</td>\n",
       "      <td>...</td>\n",
       "      <td>0</td>\n",
       "      <td>NaN</td>\n",
       "      <td>NaN</td>\n",
       "      <td>NaN</td>\n",
       "      <td>0</td>\n",
       "      <td>9</td>\n",
       "      <td>2008</td>\n",
       "      <td>WD</td>\n",
       "      <td>Normal</td>\n",
       "      <td>223500</td>\n",
       "    </tr>\n",
       "    <tr>\n",
       "      <th>3</th>\n",
       "      <td>4</td>\n",
       "      <td>70</td>\n",
       "      <td>RL</td>\n",
       "      <td>60.0</td>\n",
       "      <td>9550</td>\n",
       "      <td>Pave</td>\n",
       "      <td>NaN</td>\n",
       "      <td>IR1</td>\n",
       "      <td>Lvl</td>\n",
       "      <td>AllPub</td>\n",
       "      <td>...</td>\n",
       "      <td>0</td>\n",
       "      <td>NaN</td>\n",
       "      <td>NaN</td>\n",
       "      <td>NaN</td>\n",
       "      <td>0</td>\n",
       "      <td>2</td>\n",
       "      <td>2006</td>\n",
       "      <td>WD</td>\n",
       "      <td>Abnorml</td>\n",
       "      <td>140000</td>\n",
       "    </tr>\n",
       "    <tr>\n",
       "      <th>4</th>\n",
       "      <td>5</td>\n",
       "      <td>60</td>\n",
       "      <td>RL</td>\n",
       "      <td>84.0</td>\n",
       "      <td>14260</td>\n",
       "      <td>Pave</td>\n",
       "      <td>NaN</td>\n",
       "      <td>IR1</td>\n",
       "      <td>Lvl</td>\n",
       "      <td>AllPub</td>\n",
       "      <td>...</td>\n",
       "      <td>0</td>\n",
       "      <td>NaN</td>\n",
       "      <td>NaN</td>\n",
       "      <td>NaN</td>\n",
       "      <td>0</td>\n",
       "      <td>12</td>\n",
       "      <td>2008</td>\n",
       "      <td>WD</td>\n",
       "      <td>Normal</td>\n",
       "      <td>250000</td>\n",
       "    </tr>\n",
       "  </tbody>\n",
       "</table>\n",
       "<p>5 rows × 81 columns</p>\n",
       "</div>"
      ],
      "text/plain": [
       "   Id  MSSubClass MSZoning  LotFrontage  LotArea Street Alley LotShape  \\\n",
       "0   1          60       RL         65.0     8450   Pave   NaN      Reg   \n",
       "1   2          20       RL         80.0     9600   Pave   NaN      Reg   \n",
       "2   3          60       RL         68.0    11250   Pave   NaN      IR1   \n",
       "3   4          70       RL         60.0     9550   Pave   NaN      IR1   \n",
       "4   5          60       RL         84.0    14260   Pave   NaN      IR1   \n",
       "\n",
       "  LandContour Utilities    ...     PoolArea PoolQC Fence MiscFeature MiscVal  \\\n",
       "0         Lvl    AllPub    ...            0    NaN   NaN         NaN       0   \n",
       "1         Lvl    AllPub    ...            0    NaN   NaN         NaN       0   \n",
       "2         Lvl    AllPub    ...            0    NaN   NaN         NaN       0   \n",
       "3         Lvl    AllPub    ...            0    NaN   NaN         NaN       0   \n",
       "4         Lvl    AllPub    ...            0    NaN   NaN         NaN       0   \n",
       "\n",
       "  MoSold YrSold  SaleType  SaleCondition  SalePrice  \n",
       "0      2   2008        WD         Normal     208500  \n",
       "1      5   2007        WD         Normal     181500  \n",
       "2      9   2008        WD         Normal     223500  \n",
       "3      2   2006        WD        Abnorml     140000  \n",
       "4     12   2008        WD         Normal     250000  \n",
       "\n",
       "[5 rows x 81 columns]"
      ]
     },
     "execution_count": 6,
     "metadata": {},
     "output_type": "execute_result"
    }
   ],
   "source": [
    "train.head()"
   ]
  },
  {
   "cell_type": "code",
   "execution_count": 24,
   "metadata": {},
   "outputs": [
    {
     "data": {
      "text/html": [
       "<div>\n",
       "<table border=\"1\" class=\"dataframe\">\n",
       "  <thead>\n",
       "    <tr style=\"text-align: right;\">\n",
       "      <th></th>\n",
       "      <th>Id</th>\n",
       "      <th>MSSubClass</th>\n",
       "      <th>MSZoning</th>\n",
       "      <th>LotFrontage</th>\n",
       "      <th>LotArea</th>\n",
       "      <th>Street</th>\n",
       "      <th>Alley</th>\n",
       "      <th>LotShape</th>\n",
       "      <th>LandContour</th>\n",
       "      <th>Utilities</th>\n",
       "      <th>...</th>\n",
       "      <th>ScreenPorch</th>\n",
       "      <th>PoolArea</th>\n",
       "      <th>PoolQC</th>\n",
       "      <th>Fence</th>\n",
       "      <th>MiscFeature</th>\n",
       "      <th>MiscVal</th>\n",
       "      <th>MoSold</th>\n",
       "      <th>YrSold</th>\n",
       "      <th>SaleType</th>\n",
       "      <th>SaleCondition</th>\n",
       "    </tr>\n",
       "  </thead>\n",
       "  <tbody>\n",
       "    <tr>\n",
       "      <th>0</th>\n",
       "      <td>1461</td>\n",
       "      <td>20</td>\n",
       "      <td>RH</td>\n",
       "      <td>80.0</td>\n",
       "      <td>11622</td>\n",
       "      <td>Pave</td>\n",
       "      <td>NaN</td>\n",
       "      <td>Reg</td>\n",
       "      <td>Lvl</td>\n",
       "      <td>AllPub</td>\n",
       "      <td>...</td>\n",
       "      <td>120</td>\n",
       "      <td>0</td>\n",
       "      <td>NaN</td>\n",
       "      <td>MnPrv</td>\n",
       "      <td>NaN</td>\n",
       "      <td>0</td>\n",
       "      <td>6</td>\n",
       "      <td>2010</td>\n",
       "      <td>WD</td>\n",
       "      <td>Normal</td>\n",
       "    </tr>\n",
       "    <tr>\n",
       "      <th>1</th>\n",
       "      <td>1462</td>\n",
       "      <td>20</td>\n",
       "      <td>RL</td>\n",
       "      <td>81.0</td>\n",
       "      <td>14267</td>\n",
       "      <td>Pave</td>\n",
       "      <td>NaN</td>\n",
       "      <td>IR1</td>\n",
       "      <td>Lvl</td>\n",
       "      <td>AllPub</td>\n",
       "      <td>...</td>\n",
       "      <td>0</td>\n",
       "      <td>0</td>\n",
       "      <td>NaN</td>\n",
       "      <td>NaN</td>\n",
       "      <td>Gar2</td>\n",
       "      <td>12500</td>\n",
       "      <td>6</td>\n",
       "      <td>2010</td>\n",
       "      <td>WD</td>\n",
       "      <td>Normal</td>\n",
       "    </tr>\n",
       "    <tr>\n",
       "      <th>2</th>\n",
       "      <td>1463</td>\n",
       "      <td>60</td>\n",
       "      <td>RL</td>\n",
       "      <td>74.0</td>\n",
       "      <td>13830</td>\n",
       "      <td>Pave</td>\n",
       "      <td>NaN</td>\n",
       "      <td>IR1</td>\n",
       "      <td>Lvl</td>\n",
       "      <td>AllPub</td>\n",
       "      <td>...</td>\n",
       "      <td>0</td>\n",
       "      <td>0</td>\n",
       "      <td>NaN</td>\n",
       "      <td>MnPrv</td>\n",
       "      <td>NaN</td>\n",
       "      <td>0</td>\n",
       "      <td>3</td>\n",
       "      <td>2010</td>\n",
       "      <td>WD</td>\n",
       "      <td>Normal</td>\n",
       "    </tr>\n",
       "    <tr>\n",
       "      <th>3</th>\n",
       "      <td>1464</td>\n",
       "      <td>60</td>\n",
       "      <td>RL</td>\n",
       "      <td>78.0</td>\n",
       "      <td>9978</td>\n",
       "      <td>Pave</td>\n",
       "      <td>NaN</td>\n",
       "      <td>IR1</td>\n",
       "      <td>Lvl</td>\n",
       "      <td>AllPub</td>\n",
       "      <td>...</td>\n",
       "      <td>0</td>\n",
       "      <td>0</td>\n",
       "      <td>NaN</td>\n",
       "      <td>NaN</td>\n",
       "      <td>NaN</td>\n",
       "      <td>0</td>\n",
       "      <td>6</td>\n",
       "      <td>2010</td>\n",
       "      <td>WD</td>\n",
       "      <td>Normal</td>\n",
       "    </tr>\n",
       "    <tr>\n",
       "      <th>4</th>\n",
       "      <td>1465</td>\n",
       "      <td>120</td>\n",
       "      <td>RL</td>\n",
       "      <td>43.0</td>\n",
       "      <td>5005</td>\n",
       "      <td>Pave</td>\n",
       "      <td>NaN</td>\n",
       "      <td>IR1</td>\n",
       "      <td>HLS</td>\n",
       "      <td>AllPub</td>\n",
       "      <td>...</td>\n",
       "      <td>144</td>\n",
       "      <td>0</td>\n",
       "      <td>NaN</td>\n",
       "      <td>NaN</td>\n",
       "      <td>NaN</td>\n",
       "      <td>0</td>\n",
       "      <td>1</td>\n",
       "      <td>2010</td>\n",
       "      <td>WD</td>\n",
       "      <td>Normal</td>\n",
       "    </tr>\n",
       "  </tbody>\n",
       "</table>\n",
       "<p>5 rows × 80 columns</p>\n",
       "</div>"
      ],
      "text/plain": [
       "     Id  MSSubClass MSZoning  LotFrontage  LotArea Street Alley LotShape  \\\n",
       "0  1461          20       RH         80.0    11622   Pave   NaN      Reg   \n",
       "1  1462          20       RL         81.0    14267   Pave   NaN      IR1   \n",
       "2  1463          60       RL         74.0    13830   Pave   NaN      IR1   \n",
       "3  1464          60       RL         78.0     9978   Pave   NaN      IR1   \n",
       "4  1465         120       RL         43.0     5005   Pave   NaN      IR1   \n",
       "\n",
       "  LandContour Utilities      ...       ScreenPorch PoolArea PoolQC  Fence  \\\n",
       "0         Lvl    AllPub      ...               120        0    NaN  MnPrv   \n",
       "1         Lvl    AllPub      ...                 0        0    NaN    NaN   \n",
       "2         Lvl    AllPub      ...                 0        0    NaN  MnPrv   \n",
       "3         Lvl    AllPub      ...                 0        0    NaN    NaN   \n",
       "4         HLS    AllPub      ...               144        0    NaN    NaN   \n",
       "\n",
       "  MiscFeature MiscVal MoSold  YrSold  SaleType  SaleCondition  \n",
       "0         NaN       0      6    2010        WD         Normal  \n",
       "1        Gar2   12500      6    2010        WD         Normal  \n",
       "2         NaN       0      3    2010        WD         Normal  \n",
       "3         NaN       0      6    2010        WD         Normal  \n",
       "4         NaN       0      1    2010        WD         Normal  \n",
       "\n",
       "[5 rows x 80 columns]"
      ]
     },
     "execution_count": 24,
     "metadata": {},
     "output_type": "execute_result"
    }
   ],
   "source": [
    "test.head()"
   ]
  },
  {
   "cell_type": "markdown",
   "metadata": {},
   "source": [
    "# Preparing the training and test set"
   ]
  },
  {
   "cell_type": "code",
   "execution_count": 4,
   "metadata": {},
   "outputs": [],
   "source": [
    "train_x = train.iloc[:, :-1].values\n",
    "train_x = pd.DataFrame(train_x, columns = train.columns[0:80])\n",
    "train_y = train.iloc[:, 80].values\n",
    "train_y = pd.DataFrame(train_y, columns = [\"SalePrice\"])\n",
    "test_x = test"
   ]
  },
  {
   "cell_type": "code",
   "execution_count": 26,
   "metadata": {},
   "outputs": [
    {
     "data": {
      "text/html": [
       "<div>\n",
       "<table border=\"1\" class=\"dataframe\">\n",
       "  <thead>\n",
       "    <tr style=\"text-align: right;\">\n",
       "      <th></th>\n",
       "      <th>Id</th>\n",
       "      <th>MSSubClass</th>\n",
       "      <th>MSZoning</th>\n",
       "      <th>LotFrontage</th>\n",
       "      <th>LotArea</th>\n",
       "      <th>Street</th>\n",
       "      <th>Alley</th>\n",
       "      <th>LotShape</th>\n",
       "      <th>LandContour</th>\n",
       "      <th>Utilities</th>\n",
       "      <th>...</th>\n",
       "      <th>ScreenPorch</th>\n",
       "      <th>PoolArea</th>\n",
       "      <th>PoolQC</th>\n",
       "      <th>Fence</th>\n",
       "      <th>MiscFeature</th>\n",
       "      <th>MiscVal</th>\n",
       "      <th>MoSold</th>\n",
       "      <th>YrSold</th>\n",
       "      <th>SaleType</th>\n",
       "      <th>SaleCondition</th>\n",
       "    </tr>\n",
       "  </thead>\n",
       "  <tbody>\n",
       "    <tr>\n",
       "      <th>0</th>\n",
       "      <td>1</td>\n",
       "      <td>60</td>\n",
       "      <td>RL</td>\n",
       "      <td>65</td>\n",
       "      <td>8450</td>\n",
       "      <td>Pave</td>\n",
       "      <td>NaN</td>\n",
       "      <td>Reg</td>\n",
       "      <td>Lvl</td>\n",
       "      <td>AllPub</td>\n",
       "      <td>...</td>\n",
       "      <td>0</td>\n",
       "      <td>0</td>\n",
       "      <td>NaN</td>\n",
       "      <td>NaN</td>\n",
       "      <td>NaN</td>\n",
       "      <td>0</td>\n",
       "      <td>2</td>\n",
       "      <td>2008</td>\n",
       "      <td>WD</td>\n",
       "      <td>Normal</td>\n",
       "    </tr>\n",
       "    <tr>\n",
       "      <th>1</th>\n",
       "      <td>2</td>\n",
       "      <td>20</td>\n",
       "      <td>RL</td>\n",
       "      <td>80</td>\n",
       "      <td>9600</td>\n",
       "      <td>Pave</td>\n",
       "      <td>NaN</td>\n",
       "      <td>Reg</td>\n",
       "      <td>Lvl</td>\n",
       "      <td>AllPub</td>\n",
       "      <td>...</td>\n",
       "      <td>0</td>\n",
       "      <td>0</td>\n",
       "      <td>NaN</td>\n",
       "      <td>NaN</td>\n",
       "      <td>NaN</td>\n",
       "      <td>0</td>\n",
       "      <td>5</td>\n",
       "      <td>2007</td>\n",
       "      <td>WD</td>\n",
       "      <td>Normal</td>\n",
       "    </tr>\n",
       "    <tr>\n",
       "      <th>2</th>\n",
       "      <td>3</td>\n",
       "      <td>60</td>\n",
       "      <td>RL</td>\n",
       "      <td>68</td>\n",
       "      <td>11250</td>\n",
       "      <td>Pave</td>\n",
       "      <td>NaN</td>\n",
       "      <td>IR1</td>\n",
       "      <td>Lvl</td>\n",
       "      <td>AllPub</td>\n",
       "      <td>...</td>\n",
       "      <td>0</td>\n",
       "      <td>0</td>\n",
       "      <td>NaN</td>\n",
       "      <td>NaN</td>\n",
       "      <td>NaN</td>\n",
       "      <td>0</td>\n",
       "      <td>9</td>\n",
       "      <td>2008</td>\n",
       "      <td>WD</td>\n",
       "      <td>Normal</td>\n",
       "    </tr>\n",
       "    <tr>\n",
       "      <th>3</th>\n",
       "      <td>4</td>\n",
       "      <td>70</td>\n",
       "      <td>RL</td>\n",
       "      <td>60</td>\n",
       "      <td>9550</td>\n",
       "      <td>Pave</td>\n",
       "      <td>NaN</td>\n",
       "      <td>IR1</td>\n",
       "      <td>Lvl</td>\n",
       "      <td>AllPub</td>\n",
       "      <td>...</td>\n",
       "      <td>0</td>\n",
       "      <td>0</td>\n",
       "      <td>NaN</td>\n",
       "      <td>NaN</td>\n",
       "      <td>NaN</td>\n",
       "      <td>0</td>\n",
       "      <td>2</td>\n",
       "      <td>2006</td>\n",
       "      <td>WD</td>\n",
       "      <td>Abnorml</td>\n",
       "    </tr>\n",
       "    <tr>\n",
       "      <th>4</th>\n",
       "      <td>5</td>\n",
       "      <td>60</td>\n",
       "      <td>RL</td>\n",
       "      <td>84</td>\n",
       "      <td>14260</td>\n",
       "      <td>Pave</td>\n",
       "      <td>NaN</td>\n",
       "      <td>IR1</td>\n",
       "      <td>Lvl</td>\n",
       "      <td>AllPub</td>\n",
       "      <td>...</td>\n",
       "      <td>0</td>\n",
       "      <td>0</td>\n",
       "      <td>NaN</td>\n",
       "      <td>NaN</td>\n",
       "      <td>NaN</td>\n",
       "      <td>0</td>\n",
       "      <td>12</td>\n",
       "      <td>2008</td>\n",
       "      <td>WD</td>\n",
       "      <td>Normal</td>\n",
       "    </tr>\n",
       "  </tbody>\n",
       "</table>\n",
       "<p>5 rows × 80 columns</p>\n",
       "</div>"
      ],
      "text/plain": [
       "  Id MSSubClass MSZoning LotFrontage LotArea Street Alley LotShape  \\\n",
       "0  1         60       RL          65    8450   Pave   NaN      Reg   \n",
       "1  2         20       RL          80    9600   Pave   NaN      Reg   \n",
       "2  3         60       RL          68   11250   Pave   NaN      IR1   \n",
       "3  4         70       RL          60    9550   Pave   NaN      IR1   \n",
       "4  5         60       RL          84   14260   Pave   NaN      IR1   \n",
       "\n",
       "  LandContour Utilities      ...      ScreenPorch PoolArea PoolQC Fence  \\\n",
       "0         Lvl    AllPub      ...                0        0    NaN   NaN   \n",
       "1         Lvl    AllPub      ...                0        0    NaN   NaN   \n",
       "2         Lvl    AllPub      ...                0        0    NaN   NaN   \n",
       "3         Lvl    AllPub      ...                0        0    NaN   NaN   \n",
       "4         Lvl    AllPub      ...                0        0    NaN   NaN   \n",
       "\n",
       "  MiscFeature MiscVal MoSold YrSold SaleType SaleCondition  \n",
       "0         NaN       0      2   2008       WD        Normal  \n",
       "1         NaN       0      5   2007       WD        Normal  \n",
       "2         NaN       0      9   2008       WD        Normal  \n",
       "3         NaN       0      2   2006       WD       Abnorml  \n",
       "4         NaN       0     12   2008       WD        Normal  \n",
       "\n",
       "[5 rows x 80 columns]"
      ]
     },
     "execution_count": 26,
     "metadata": {},
     "output_type": "execute_result"
    }
   ],
   "source": [
    "train_x.head()"
   ]
  },
  {
   "cell_type": "code",
   "execution_count": 27,
   "metadata": {},
   "outputs": [
    {
     "data": {
      "text/html": [
       "<div>\n",
       "<table border=\"1\" class=\"dataframe\">\n",
       "  <thead>\n",
       "    <tr style=\"text-align: right;\">\n",
       "      <th></th>\n",
       "      <th>Id</th>\n",
       "      <th>MSSubClass</th>\n",
       "      <th>MSZoning</th>\n",
       "      <th>LotFrontage</th>\n",
       "      <th>LotArea</th>\n",
       "      <th>Street</th>\n",
       "      <th>Alley</th>\n",
       "      <th>LotShape</th>\n",
       "      <th>LandContour</th>\n",
       "      <th>Utilities</th>\n",
       "      <th>...</th>\n",
       "      <th>ScreenPorch</th>\n",
       "      <th>PoolArea</th>\n",
       "      <th>PoolQC</th>\n",
       "      <th>Fence</th>\n",
       "      <th>MiscFeature</th>\n",
       "      <th>MiscVal</th>\n",
       "      <th>MoSold</th>\n",
       "      <th>YrSold</th>\n",
       "      <th>SaleType</th>\n",
       "      <th>SaleCondition</th>\n",
       "    </tr>\n",
       "  </thead>\n",
       "  <tbody>\n",
       "    <tr>\n",
       "      <th>0</th>\n",
       "      <td>1461</td>\n",
       "      <td>20</td>\n",
       "      <td>RH</td>\n",
       "      <td>80.0</td>\n",
       "      <td>11622</td>\n",
       "      <td>Pave</td>\n",
       "      <td>NaN</td>\n",
       "      <td>Reg</td>\n",
       "      <td>Lvl</td>\n",
       "      <td>AllPub</td>\n",
       "      <td>...</td>\n",
       "      <td>120</td>\n",
       "      <td>0</td>\n",
       "      <td>NaN</td>\n",
       "      <td>MnPrv</td>\n",
       "      <td>NaN</td>\n",
       "      <td>0</td>\n",
       "      <td>6</td>\n",
       "      <td>2010</td>\n",
       "      <td>WD</td>\n",
       "      <td>Normal</td>\n",
       "    </tr>\n",
       "    <tr>\n",
       "      <th>1</th>\n",
       "      <td>1462</td>\n",
       "      <td>20</td>\n",
       "      <td>RL</td>\n",
       "      <td>81.0</td>\n",
       "      <td>14267</td>\n",
       "      <td>Pave</td>\n",
       "      <td>NaN</td>\n",
       "      <td>IR1</td>\n",
       "      <td>Lvl</td>\n",
       "      <td>AllPub</td>\n",
       "      <td>...</td>\n",
       "      <td>0</td>\n",
       "      <td>0</td>\n",
       "      <td>NaN</td>\n",
       "      <td>NaN</td>\n",
       "      <td>Gar2</td>\n",
       "      <td>12500</td>\n",
       "      <td>6</td>\n",
       "      <td>2010</td>\n",
       "      <td>WD</td>\n",
       "      <td>Normal</td>\n",
       "    </tr>\n",
       "    <tr>\n",
       "      <th>2</th>\n",
       "      <td>1463</td>\n",
       "      <td>60</td>\n",
       "      <td>RL</td>\n",
       "      <td>74.0</td>\n",
       "      <td>13830</td>\n",
       "      <td>Pave</td>\n",
       "      <td>NaN</td>\n",
       "      <td>IR1</td>\n",
       "      <td>Lvl</td>\n",
       "      <td>AllPub</td>\n",
       "      <td>...</td>\n",
       "      <td>0</td>\n",
       "      <td>0</td>\n",
       "      <td>NaN</td>\n",
       "      <td>MnPrv</td>\n",
       "      <td>NaN</td>\n",
       "      <td>0</td>\n",
       "      <td>3</td>\n",
       "      <td>2010</td>\n",
       "      <td>WD</td>\n",
       "      <td>Normal</td>\n",
       "    </tr>\n",
       "    <tr>\n",
       "      <th>3</th>\n",
       "      <td>1464</td>\n",
       "      <td>60</td>\n",
       "      <td>RL</td>\n",
       "      <td>78.0</td>\n",
       "      <td>9978</td>\n",
       "      <td>Pave</td>\n",
       "      <td>NaN</td>\n",
       "      <td>IR1</td>\n",
       "      <td>Lvl</td>\n",
       "      <td>AllPub</td>\n",
       "      <td>...</td>\n",
       "      <td>0</td>\n",
       "      <td>0</td>\n",
       "      <td>NaN</td>\n",
       "      <td>NaN</td>\n",
       "      <td>NaN</td>\n",
       "      <td>0</td>\n",
       "      <td>6</td>\n",
       "      <td>2010</td>\n",
       "      <td>WD</td>\n",
       "      <td>Normal</td>\n",
       "    </tr>\n",
       "    <tr>\n",
       "      <th>4</th>\n",
       "      <td>1465</td>\n",
       "      <td>120</td>\n",
       "      <td>RL</td>\n",
       "      <td>43.0</td>\n",
       "      <td>5005</td>\n",
       "      <td>Pave</td>\n",
       "      <td>NaN</td>\n",
       "      <td>IR1</td>\n",
       "      <td>HLS</td>\n",
       "      <td>AllPub</td>\n",
       "      <td>...</td>\n",
       "      <td>144</td>\n",
       "      <td>0</td>\n",
       "      <td>NaN</td>\n",
       "      <td>NaN</td>\n",
       "      <td>NaN</td>\n",
       "      <td>0</td>\n",
       "      <td>1</td>\n",
       "      <td>2010</td>\n",
       "      <td>WD</td>\n",
       "      <td>Normal</td>\n",
       "    </tr>\n",
       "  </tbody>\n",
       "</table>\n",
       "<p>5 rows × 80 columns</p>\n",
       "</div>"
      ],
      "text/plain": [
       "     Id  MSSubClass MSZoning  LotFrontage  LotArea Street Alley LotShape  \\\n",
       "0  1461          20       RH         80.0    11622   Pave   NaN      Reg   \n",
       "1  1462          20       RL         81.0    14267   Pave   NaN      IR1   \n",
       "2  1463          60       RL         74.0    13830   Pave   NaN      IR1   \n",
       "3  1464          60       RL         78.0     9978   Pave   NaN      IR1   \n",
       "4  1465         120       RL         43.0     5005   Pave   NaN      IR1   \n",
       "\n",
       "  LandContour Utilities      ...       ScreenPorch PoolArea PoolQC  Fence  \\\n",
       "0         Lvl    AllPub      ...               120        0    NaN  MnPrv   \n",
       "1         Lvl    AllPub      ...                 0        0    NaN    NaN   \n",
       "2         Lvl    AllPub      ...                 0        0    NaN  MnPrv   \n",
       "3         Lvl    AllPub      ...                 0        0    NaN    NaN   \n",
       "4         HLS    AllPub      ...               144        0    NaN    NaN   \n",
       "\n",
       "  MiscFeature MiscVal MoSold  YrSold  SaleType  SaleCondition  \n",
       "0         NaN       0      6    2010        WD         Normal  \n",
       "1        Gar2   12500      6    2010        WD         Normal  \n",
       "2         NaN       0      3    2010        WD         Normal  \n",
       "3         NaN       0      6    2010        WD         Normal  \n",
       "4         NaN       0      1    2010        WD         Normal  \n",
       "\n",
       "[5 rows x 80 columns]"
      ]
     },
     "execution_count": 27,
     "metadata": {},
     "output_type": "execute_result"
    }
   ],
   "source": [
    "test_x.head()"
   ]
  },
  {
   "cell_type": "code",
   "execution_count": 5,
   "metadata": {},
   "outputs": [
    {
     "name": "stdout",
     "output_type": "stream",
     "text": [
      "(1460, 80)\n",
      "(1459, 80)\n"
     ]
    }
   ],
   "source": [
    "print(train_x.shape)\n",
    "print(test_x.shape)"
   ]
  },
  {
   "cell_type": "code",
   "execution_count": 16,
   "metadata": {
    "collapsed": true
   },
   "outputs": [],
   "source": [
    "combined = pd.concat([train_x, test_x], axis=0)\n",
    "combined = combined.reset_index(drop=True)"
   ]
  },
  {
   "cell_type": "code",
   "execution_count": 17,
   "metadata": {},
   "outputs": [
    {
     "data": {
      "text/plain": [
       "(2919, 80)"
      ]
     },
     "execution_count": 17,
     "metadata": {},
     "output_type": "execute_result"
    }
   ],
   "source": [
    "combined.shape"
   ]
  },
  {
   "cell_type": "code",
   "execution_count": 18,
   "metadata": {},
   "outputs": [],
   "source": [
    "combined = combined.drop(['Id'], axis =1)"
   ]
  },
  {
   "cell_type": "markdown",
   "metadata": {},
   "source": [
    "# Feature selection"
   ]
  },
  {
   "cell_type": "markdown",
   "metadata": {},
   "source": [
    "Those features have more than 50% missing values are dropped"
   ]
  },
  {
   "cell_type": "code",
   "execution_count": 17,
   "metadata": {},
   "outputs": [
    {
     "data": {
      "image/png": "[encoded data removed]",
      "text/plain": [
       "<matplotlib.figure.Figure at 0x81252c5da0>"
      ]
     },
     "metadata": {},
     "output_type": "display_data"
    }
   ],
   "source": [
    "sns.heatmap(combined.isnull(),yticklabels=False,cbar=False)\n",
    "plt.show()"
   ]
  },
  {
   "cell_type": "code",
   "execution_count": 19,
   "metadata": {
    "collapsed": true
   },
   "outputs": [],
   "source": [
    "combined.drop([\"Alley\",\"PoolQC\"],axis=1, inplace = True)"
   ]
  },
  {
   "cell_type": "code",
   "execution_count": 20,
   "metadata": {},
   "outputs": [
    {
     "data": {
      "image/png": "[encoded data removed]",
      "text/plain": [
       "<matplotlib.figure.Figure at 0x8126fbfac8>"
      ]
     },
     "metadata": {},
     "output_type": "display_data"
    }
   ],
   "source": [
    "sns.heatmap(combined.isnull(),yticklabels=False,cbar=False)\n",
    "plt.show()"
   ]
  },
  {
   "cell_type": "code",
   "execution_count": 20,
   "metadata": {},
   "outputs": [],
   "source": [
    "combined.drop([\"Fence\",\"MiscFeature\"],axis=1, inplace = True)"
   ]
  },
  {
   "cell_type": "code",
   "execution_count": 22,
   "metadata": {},
   "outputs": [
    {
     "data": {
      "image/png": "[encoded data removed]",
      "text/plain": [
       "<matplotlib.figure.Figure at 0x812521e240>"
      ]
     },
     "metadata": {},
     "output_type": "display_data"
    }
   ],
   "source": [
    "sns.heatmap(combined.isnull(),yticklabels=False,cbar=False)\n",
    "plt.show()"
   ]
  },
  {
   "cell_type": "markdown",
   "metadata": {},
   "source": [
    "Features  \"LotFrontage\"  have  486  and  \"FireplaceQu\"  have  1420  missing values out of  2919  values. Other features have very less missing values. So filling the missing values with  mean/meadian/mode  for this can distort the algorithm. So to take care of missing values for this two features I will apply  machine learning algorithms  and for the other features I will apply  mean/median/mode  method."
   ]
  },
  {
   "cell_type": "code",
   "execution_count": 21,
   "metadata": {
    "collapsed": true
   },
   "outputs": [],
   "source": [
    "combined[\"MSZoning\"] = combined[\"MSZoning\"].fillna(combined[\"MSZoning\"].mode().iloc[0])\n",
    "combined[\"Utilities\"] = combined[\"Utilities\"].fillna(combined[\"Utilities\"].mode().iloc[0])\n",
    "combined[\"Exterior1st\"] = combined[\"Exterior1st\"].fillna(combined[\"Exterior1st\"].mode().iloc[0])\n",
    "combined[\"Exterior2nd\"] = combined[\"Exterior2nd\"].fillna(combined[\"Exterior2nd\"].mode().iloc[0])\n",
    "combined[\"MasVnrType\"] = combined[\"MasVnrType\"].fillna(combined[\"MasVnrType\"].mode().iloc[0])\n",
    "combined[\"MasVnrArea\"] = combined[\"MasVnrArea\"].fillna(combined[\"MasVnrArea\"].mode().iloc[0])"
   ]
  },
  {
   "cell_type": "code",
   "execution_count": 22,
   "metadata": {
    "collapsed": true
   },
   "outputs": [],
   "source": [
    "combined[\"BsmtQual\"] = combined[\"BsmtQual\"].fillna(combined[\"BsmtQual\"].mode().iloc[0])\n",
    "combined[\"BsmtCond\"] = combined[\"BsmtCond\"].fillna(combined[\"BsmtCond\"].mode().iloc[0])\n",
    "combined[\"BsmtExposure\"] = combined[\"BsmtExposure\"].fillna(combined[\"BsmtExposure\"].mode().iloc[0])\n",
    "combined[\"BsmtFinType1\"] = combined[\"BsmtFinType1\"].fillna(combined[\"BsmtFinType1\"].mode().iloc[0])\n",
    "combined[\"BsmtFinSF1\"] = combined[\"BsmtFinSF1\"].fillna(combined[\"BsmtFinSF1\"].mode().iloc[0])\n",
    "combined[\"BsmtFinType2\"] = combined[\"BsmtFinType2\"].fillna(combined[\"BsmtFinType2\"].mode().iloc[0])"
   ]
  },
  {
   "cell_type": "code",
   "execution_count": 23,
   "metadata": {
    "collapsed": true
   },
   "outputs": [],
   "source": [
    "combined[\"BsmtFinSF2\"] = combined[\"BsmtFinSF2\"].fillna(combined[\"BsmtFinSF2\"].mode().iloc[0])\n",
    "combined[\"BsmtUnfSF\"] = combined[\"BsmtUnfSF\"].fillna(combined[\"BsmtUnfSF\"].mode().iloc[0])\n",
    "combined[\"TotalBsmtSF\"] = combined[\"TotalBsmtSF\"].fillna(combined[\"TotalBsmtSF\"].mode().iloc[0])\n",
    "combined[\"Electrical\"] = combined[\"Electrical\"].fillna(combined[\"Electrical\"].mode().iloc[0])\n",
    "combined[\"BsmtFullBath\"] = combined[\"BsmtFullBath\"].fillna(combined[\"BsmtFullBath\"].mode().iloc[0])\n",
    "combined[\"BsmtHalfBath\"] = combined[\"BsmtHalfBath\"].fillna(combined[\"BsmtHalfBath\"].mode().iloc[0])"
   ]
  },
  {
   "cell_type": "code",
   "execution_count": 24,
   "metadata": {
    "collapsed": true
   },
   "outputs": [],
   "source": [
    "combined[\"KitchenQual\"] = combined[\"KitchenQual\"].fillna(combined[\"KitchenQual\"].mode().iloc[0])\n",
    "combined[\"Functional\"] = combined[\"Functional\"].fillna(combined[\"Functional\"].mode().iloc[0])\n",
    "combined[\"GarageType\"] = combined[\"GarageType\"].fillna(combined[\"GarageType\"].mode().iloc[0])\n",
    "combined[\"GarageYrBlt\"] = combined[\"GarageYrBlt\"].fillna(combined[\"GarageYrBlt\"].mode().iloc[0])\n",
    "combined[\"GarageFinish\"] = combined[\"GarageFinish\"].fillna(combined[\"GarageFinish\"].mode().iloc[0])\n",
    "combined[\"GarageCars\"] = combined[\"GarageCars\"].fillna(combined[\"GarageCars\"].mode().iloc[0])"
   ]
  },
  {
   "cell_type": "code",
   "execution_count": 25,
   "metadata": {
    "collapsed": true
   },
   "outputs": [],
   "source": [
    "combined[\"GarageArea\"] = combined[\"GarageArea\"].fillna(combined[\"GarageArea\"].mode().iloc[0])\n",
    "combined[\"GarageQual\"] = combined[\"GarageQual\"].fillna(combined[\"GarageQual\"].mode().iloc[0])\n",
    "combined[\"GarageCond\"] = combined[\"GarageCond\"].fillna(combined[\"GarageCond\"].mode().iloc[0])\n",
    "combined[\"SaleType\"] = combined[\"SaleType\"].fillna(combined[\"SaleType\"].mode().iloc[0])"
   ]
  },
  {
   "cell_type": "code",
   "execution_count": 87,
   "metadata": {},
   "outputs": [
    {
     "data": {
      "image/png": "[encoded data removed]",
      "text/plain": [
       "<matplotlib.figure.Figure at 0x812b84de48>"
      ]
     },
     "metadata": {},
     "output_type": "display_data"
    }
   ],
   "source": [
    "sns.heatmap(combined.isnull(),yticklabels=False,cbar=False)\n",
    "plt.show()"
   ]
  },
  {
   "cell_type": "code",
   "execution_count": 26,
   "metadata": {},
   "outputs": [
    {
     "data": {
      "text/plain": [
       "(2919, 75)"
      ]
     },
     "execution_count": 26,
     "metadata": {},
     "output_type": "execute_result"
    }
   ],
   "source": [
    "combined.shape"
   ]
  },
  {
   "cell_type": "code",
   "execution_count": 27,
   "metadata": {
    "collapsed": true
   },
   "outputs": [],
   "source": [
    "data_for_use_without_null = combined.dropna(axis = 1)\n",
    "column_name_with_null_values = combined.columns[combined.isnull().any()].tolist()"
   ]
  },
  {
   "cell_type": "code",
   "execution_count": 28,
   "metadata": {},
   "outputs": [
    {
     "data": {
      "text/plain": [
       "(2919, 73)"
      ]
     },
     "execution_count": 28,
     "metadata": {},
     "output_type": "execute_result"
    }
   ],
   "source": [
    "data_for_use_without_null.shape"
   ]
  },
  {
   "cell_type": "code",
   "execution_count": 29,
   "metadata": {},
   "outputs": [
    {
     "data": {
      "text/plain": [
       "['LotFrontage', 'FireplaceQu']"
      ]
     },
     "execution_count": 29,
     "metadata": {},
     "output_type": "execute_result"
    }
   ],
   "source": [
    "column_name_with_null_values"
   ]
  },
  {
   "cell_type": "code",
   "execution_count": 30,
   "metadata": {
    "collapsed": true
   },
   "outputs": [],
   "source": [
    "categorical_features =['MSZoning','Street','LotShape','LandContour','Utilities','LotConfig','LandSlope','Neighborhood',\n",
    "                       'Condition1','Condition2','BldgType','HouseStyle', 'RoofStyle', 'RoofMatl', 'Exterior1st', 'Exterior2nd',\n",
    "                       'MasVnrType', 'ExterQual', 'ExterCond', 'Foundation', 'BsmtQual', 'BsmtCond', 'BsmtExposure', 'BsmtFinType1',\n",
    "                       'BsmtFinType2', 'Heating', 'HeatingQC', 'CentralAir', 'Electrical', 'KitchenQual', 'Functional', 'GarageType',\n",
    "                       'GarageFinish', 'GarageQual', 'GarageCond', 'PavedDrive', 'SaleType', 'SaleCondition']"
   ]
  },
  {
   "cell_type": "markdown",
   "metadata": {},
   "source": [
    "# One hot encoding of the categorical features"
   ]
  },
  {
   "cell_type": "code",
   "execution_count": 31,
   "metadata": {
    "collapsed": true
   },
   "outputs": [],
   "source": [
    "data_for_use_without_null_dummy = data_for_use_without_null\n",
    "for label in categorical_features:\n",
    "    dummy = pd.get_dummies(data_for_use_without_null_dummy[label],drop_first=False)\n",
    "    data_for_use_without_null_dummy = pd.concat([data_for_use_without_null_dummy, dummy], axis=1)\n",
    "    data_for_use_without_null_dummy.drop([label],axis=1, inplace = True)"
   ]
  },
  {
   "cell_type": "code",
   "execution_count": 32,
   "metadata": {},
   "outputs": [
    {
     "data": {
      "text/plain": [
       "(2919, 269)"
      ]
     },
     "execution_count": 32,
     "metadata": {},
     "output_type": "execute_result"
    }
   ],
   "source": [
    "data_for_use_without_null_dummy.shape"
   ]
  },
  {
   "cell_type": "code",
   "execution_count": 33,
   "metadata": {},
   "outputs": [],
   "source": [
    "name_0 = combined[column_name_with_null_values[0]]\n",
    "data_regressor = pd.concat([data_for_use_without_null_dummy, name_0], axis=1)"
   ]
  },
  {
   "cell_type": "code",
   "execution_count": 34,
   "metadata": {},
   "outputs": [
    {
     "data": {
      "text/html": [
       "<div>\n",
       "<table border=\"1\" class=\"dataframe\">\n",
       "  <thead>\n",
       "    <tr style=\"text-align: right;\">\n",
       "      <th></th>\n",
       "      <th>MSSubClass</th>\n",
       "      <th>LotArea</th>\n",
       "      <th>OverallQual</th>\n",
       "      <th>OverallCond</th>\n",
       "      <th>YearBuilt</th>\n",
       "      <th>YearRemodAdd</th>\n",
       "      <th>MasVnrArea</th>\n",
       "      <th>BsmtFinSF1</th>\n",
       "      <th>BsmtFinSF2</th>\n",
       "      <th>BsmtUnfSF</th>\n",
       "      <th>...</th>\n",
       "      <th>New</th>\n",
       "      <th>Oth</th>\n",
       "      <th>WD</th>\n",
       "      <th>Abnorml</th>\n",
       "      <th>AdjLand</th>\n",
       "      <th>Alloca</th>\n",
       "      <th>Family</th>\n",
       "      <th>Normal</th>\n",
       "      <th>Partial</th>\n",
       "      <th>LotFrontage</th>\n",
       "    </tr>\n",
       "  </thead>\n",
       "  <tbody>\n",
       "    <tr>\n",
       "      <th>0</th>\n",
       "      <td>60</td>\n",
       "      <td>10382</td>\n",
       "      <td>7</td>\n",
       "      <td>6</td>\n",
       "      <td>1973</td>\n",
       "      <td>1973</td>\n",
       "      <td>240.0</td>\n",
       "      <td>859.0</td>\n",
       "      <td>32.0</td>\n",
       "      <td>216.0</td>\n",
       "      <td>...</td>\n",
       "      <td>0.0</td>\n",
       "      <td>0.0</td>\n",
       "      <td>1.0</td>\n",
       "      <td>0.0</td>\n",
       "      <td>0.0</td>\n",
       "      <td>0.0</td>\n",
       "      <td>0.0</td>\n",
       "      <td>1.0</td>\n",
       "      <td>0.0</td>\n",
       "      <td>NaN</td>\n",
       "    </tr>\n",
       "    <tr>\n",
       "      <th>1</th>\n",
       "      <td>20</td>\n",
       "      <td>12968</td>\n",
       "      <td>5</td>\n",
       "      <td>6</td>\n",
       "      <td>1962</td>\n",
       "      <td>1962</td>\n",
       "      <td>0.0</td>\n",
       "      <td>737.0</td>\n",
       "      <td>0.0</td>\n",
       "      <td>175.0</td>\n",
       "      <td>...</td>\n",
       "      <td>0.0</td>\n",
       "      <td>0.0</td>\n",
       "      <td>1.0</td>\n",
       "      <td>0.0</td>\n",
       "      <td>0.0</td>\n",
       "      <td>0.0</td>\n",
       "      <td>0.0</td>\n",
       "      <td>1.0</td>\n",
       "      <td>0.0</td>\n",
       "      <td>NaN</td>\n",
       "    </tr>\n",
       "    <tr>\n",
       "      <th>2</th>\n",
       "      <td>20</td>\n",
       "      <td>10920</td>\n",
       "      <td>6</td>\n",
       "      <td>5</td>\n",
       "      <td>1960</td>\n",
       "      <td>1960</td>\n",
       "      <td>212.0</td>\n",
       "      <td>733.0</td>\n",
       "      <td>0.0</td>\n",
       "      <td>520.0</td>\n",
       "      <td>...</td>\n",
       "      <td>0.0</td>\n",
       "      <td>0.0</td>\n",
       "      <td>1.0</td>\n",
       "      <td>0.0</td>\n",
       "      <td>0.0</td>\n",
       "      <td>0.0</td>\n",
       "      <td>0.0</td>\n",
       "      <td>1.0</td>\n",
       "      <td>0.0</td>\n",
       "      <td>NaN</td>\n",
       "    </tr>\n",
       "    <tr>\n",
       "      <th>3</th>\n",
       "      <td>20</td>\n",
       "      <td>11241</td>\n",
       "      <td>6</td>\n",
       "      <td>7</td>\n",
       "      <td>1970</td>\n",
       "      <td>1970</td>\n",
       "      <td>180.0</td>\n",
       "      <td>578.0</td>\n",
       "      <td>0.0</td>\n",
       "      <td>426.0</td>\n",
       "      <td>...</td>\n",
       "      <td>0.0</td>\n",
       "      <td>0.0</td>\n",
       "      <td>1.0</td>\n",
       "      <td>0.0</td>\n",
       "      <td>0.0</td>\n",
       "      <td>0.0</td>\n",
       "      <td>0.0</td>\n",
       "      <td>1.0</td>\n",
       "      <td>0.0</td>\n",
       "      <td>NaN</td>\n",
       "    </tr>\n",
       "    <tr>\n",
       "      <th>4</th>\n",
       "      <td>20</td>\n",
       "      <td>8246</td>\n",
       "      <td>5</td>\n",
       "      <td>8</td>\n",
       "      <td>1968</td>\n",
       "      <td>2001</td>\n",
       "      <td>0.0</td>\n",
       "      <td>188.0</td>\n",
       "      <td>668.0</td>\n",
       "      <td>204.0</td>\n",
       "      <td>...</td>\n",
       "      <td>0.0</td>\n",
       "      <td>0.0</td>\n",
       "      <td>1.0</td>\n",
       "      <td>0.0</td>\n",
       "      <td>0.0</td>\n",
       "      <td>0.0</td>\n",
       "      <td>0.0</td>\n",
       "      <td>1.0</td>\n",
       "      <td>0.0</td>\n",
       "      <td>NaN</td>\n",
       "    </tr>\n",
       "    <tr>\n",
       "      <th>5</th>\n",
       "      <td>20</td>\n",
       "      <td>8544</td>\n",
       "      <td>5</td>\n",
       "      <td>6</td>\n",
       "      <td>1966</td>\n",
       "      <td>2006</td>\n",
       "      <td>0.0</td>\n",
       "      <td>0.0</td>\n",
       "      <td>0.0</td>\n",
       "      <td>1228.0</td>\n",
       "      <td>...</td>\n",
       "      <td>0.0</td>\n",
       "      <td>0.0</td>\n",
       "      <td>1.0</td>\n",
       "      <td>0.0</td>\n",
       "      <td>0.0</td>\n",
       "      <td>0.0</td>\n",
       "      <td>0.0</td>\n",
       "      <td>1.0</td>\n",
       "      <td>0.0</td>\n",
       "      <td>NaN</td>\n",
       "    </tr>\n",
       "    <tr>\n",
       "      <th>6</th>\n",
       "      <td>85</td>\n",
       "      <td>9180</td>\n",
       "      <td>5</td>\n",
       "      <td>7</td>\n",
       "      <td>1983</td>\n",
       "      <td>1983</td>\n",
       "      <td>0.0</td>\n",
       "      <td>747.0</td>\n",
       "      <td>93.0</td>\n",
       "      <td>0.0</td>\n",
       "      <td>...</td>\n",
       "      <td>0.0</td>\n",
       "      <td>0.0</td>\n",
       "      <td>1.0</td>\n",
       "      <td>0.0</td>\n",
       "      <td>0.0</td>\n",
       "      <td>0.0</td>\n",
       "      <td>0.0</td>\n",
       "      <td>1.0</td>\n",
       "      <td>0.0</td>\n",
       "      <td>NaN</td>\n",
       "    </tr>\n",
       "    <tr>\n",
       "      <th>7</th>\n",
       "      <td>20</td>\n",
       "      <td>9200</td>\n",
       "      <td>5</td>\n",
       "      <td>6</td>\n",
       "      <td>1975</td>\n",
       "      <td>1980</td>\n",
       "      <td>0.0</td>\n",
       "      <td>280.0</td>\n",
       "      <td>491.0</td>\n",
       "      <td>167.0</td>\n",
       "      <td>...</td>\n",
       "      <td>0.0</td>\n",
       "      <td>0.0</td>\n",
       "      <td>1.0</td>\n",
       "      <td>0.0</td>\n",
       "      <td>0.0</td>\n",
       "      <td>0.0</td>\n",
       "      <td>0.0</td>\n",
       "      <td>1.0</td>\n",
       "      <td>0.0</td>\n",
       "      <td>NaN</td>\n",
       "    </tr>\n",
       "    <tr>\n",
       "      <th>8</th>\n",
       "      <td>60</td>\n",
       "      <td>13869</td>\n",
       "      <td>6</td>\n",
       "      <td>6</td>\n",
       "      <td>1997</td>\n",
       "      <td>1997</td>\n",
       "      <td>0.0</td>\n",
       "      <td>182.0</td>\n",
       "      <td>0.0</td>\n",
       "      <td>612.0</td>\n",
       "      <td>...</td>\n",
       "      <td>0.0</td>\n",
       "      <td>0.0</td>\n",
       "      <td>1.0</td>\n",
       "      <td>0.0</td>\n",
       "      <td>0.0</td>\n",
       "      <td>0.0</td>\n",
       "      <td>0.0</td>\n",
       "      <td>1.0</td>\n",
       "      <td>0.0</td>\n",
       "      <td>NaN</td>\n",
       "    </tr>\n",
       "    <tr>\n",
       "      <th>9</th>\n",
       "      <td>60</td>\n",
       "      <td>9375</td>\n",
       "      <td>7</td>\n",
       "      <td>5</td>\n",
       "      <td>1997</td>\n",
       "      <td>1998</td>\n",
       "      <td>573.0</td>\n",
       "      <td>739.0</td>\n",
       "      <td>0.0</td>\n",
       "      <td>318.0</td>\n",
       "      <td>...</td>\n",
       "      <td>0.0</td>\n",
       "      <td>0.0</td>\n",
       "      <td>1.0</td>\n",
       "      <td>0.0</td>\n",
       "      <td>0.0</td>\n",
       "      <td>0.0</td>\n",
       "      <td>0.0</td>\n",
       "      <td>1.0</td>\n",
       "      <td>0.0</td>\n",
       "      <td>NaN</td>\n",
       "    </tr>\n",
       "    <tr>\n",
       "      <th>10</th>\n",
       "      <td>20</td>\n",
       "      <td>19900</td>\n",
       "      <td>7</td>\n",
       "      <td>5</td>\n",
       "      <td>1970</td>\n",
       "      <td>1989</td>\n",
       "      <td>287.0</td>\n",
       "      <td>912.0</td>\n",
       "      <td>0.0</td>\n",
       "      <td>1035.0</td>\n",
       "      <td>...</td>\n",
       "      <td>0.0</td>\n",
       "      <td>0.0</td>\n",
       "      <td>1.0</td>\n",
       "      <td>0.0</td>\n",
       "      <td>0.0</td>\n",
       "      <td>0.0</td>\n",
       "      <td>0.0</td>\n",
       "      <td>1.0</td>\n",
       "      <td>0.0</td>\n",
       "      <td>NaN</td>\n",
       "    </tr>\n",
       "    <tr>\n",
       "      <th>11</th>\n",
       "      <td>20</td>\n",
       "      <td>8475</td>\n",
       "      <td>4</td>\n",
       "      <td>7</td>\n",
       "      <td>1956</td>\n",
       "      <td>1956</td>\n",
       "      <td>0.0</td>\n",
       "      <td>228.0</td>\n",
       "      <td>0.0</td>\n",
       "      <td>724.0</td>\n",
       "      <td>...</td>\n",
       "      <td>0.0</td>\n",
       "      <td>0.0</td>\n",
       "      <td>1.0</td>\n",
       "      <td>0.0</td>\n",
       "      <td>0.0</td>\n",
       "      <td>0.0</td>\n",
       "      <td>0.0</td>\n",
       "      <td>1.0</td>\n",
       "      <td>0.0</td>\n",
       "      <td>NaN</td>\n",
       "    </tr>\n",
       "    <tr>\n",
       "      <th>12</th>\n",
       "      <td>80</td>\n",
       "      <td>8530</td>\n",
       "      <td>7</td>\n",
       "      <td>5</td>\n",
       "      <td>1995</td>\n",
       "      <td>1996</td>\n",
       "      <td>22.0</td>\n",
       "      <td>0.0</td>\n",
       "      <td>0.0</td>\n",
       "      <td>384.0</td>\n",
       "      <td>...</td>\n",
       "      <td>0.0</td>\n",
       "      <td>0.0</td>\n",
       "      <td>1.0</td>\n",
       "      <td>0.0</td>\n",
       "      <td>0.0</td>\n",
       "      <td>0.0</td>\n",
       "      <td>0.0</td>\n",
       "      <td>1.0</td>\n",
       "      <td>0.0</td>\n",
       "      <td>NaN</td>\n",
       "    </tr>\n",
       "    <tr>\n",
       "      <th>13</th>\n",
       "      <td>60</td>\n",
       "      <td>9765</td>\n",
       "      <td>6</td>\n",
       "      <td>8</td>\n",
       "      <td>1993</td>\n",
       "      <td>1993</td>\n",
       "      <td>68.0</td>\n",
       "      <td>310.0</td>\n",
       "      <td>0.0</td>\n",
       "      <td>370.0</td>\n",
       "      <td>...</td>\n",
       "      <td>0.0</td>\n",
       "      <td>0.0</td>\n",
       "      <td>1.0</td>\n",
       "      <td>0.0</td>\n",
       "      <td>0.0</td>\n",
       "      <td>0.0</td>\n",
       "      <td>0.0</td>\n",
       "      <td>1.0</td>\n",
       "      <td>0.0</td>\n",
       "      <td>NaN</td>\n",
       "    </tr>\n",
       "    <tr>\n",
       "      <th>14</th>\n",
       "      <td>20</td>\n",
       "      <td>10603</td>\n",
       "      <td>6</td>\n",
       "      <td>7</td>\n",
       "      <td>1977</td>\n",
       "      <td>2001</td>\n",
       "      <td>28.0</td>\n",
       "      <td>1200.0</td>\n",
       "      <td>0.0</td>\n",
       "      <td>410.0</td>\n",
       "      <td>...</td>\n",
       "      <td>0.0</td>\n",
       "      <td>0.0</td>\n",
       "      <td>1.0</td>\n",
       "      <td>0.0</td>\n",
       "      <td>0.0</td>\n",
       "      <td>0.0</td>\n",
       "      <td>0.0</td>\n",
       "      <td>1.0</td>\n",
       "      <td>0.0</td>\n",
       "      <td>NaN</td>\n",
       "    </tr>\n",
       "    <tr>\n",
       "      <th>15</th>\n",
       "      <td>50</td>\n",
       "      <td>7758</td>\n",
       "      <td>7</td>\n",
       "      <td>4</td>\n",
       "      <td>1931</td>\n",
       "      <td>1950</td>\n",
       "      <td>600.0</td>\n",
       "      <td>224.0</td>\n",
       "      <td>0.0</td>\n",
       "      <td>816.0</td>\n",
       "      <td>...</td>\n",
       "      <td>0.0</td>\n",
       "      <td>0.0</td>\n",
       "      <td>1.0</td>\n",
       "      <td>0.0</td>\n",
       "      <td>0.0</td>\n",
       "      <td>0.0</td>\n",
       "      <td>0.0</td>\n",
       "      <td>1.0</td>\n",
       "      <td>0.0</td>\n",
       "      <td>NaN</td>\n",
       "    </tr>\n",
       "    <tr>\n",
       "      <th>16</th>\n",
       "      <td>80</td>\n",
       "      <td>7750</td>\n",
       "      <td>7</td>\n",
       "      <td>5</td>\n",
       "      <td>2000</td>\n",
       "      <td>2000</td>\n",
       "      <td>0.0</td>\n",
       "      <td>250.0</td>\n",
       "      <td>0.0</td>\n",
       "      <td>134.0</td>\n",
       "      <td>...</td>\n",
       "      <td>0.0</td>\n",
       "      <td>0.0</td>\n",
       "      <td>1.0</td>\n",
       "      <td>0.0</td>\n",
       "      <td>0.0</td>\n",
       "      <td>0.0</td>\n",
       "      <td>0.0</td>\n",
       "      <td>1.0</td>\n",
       "      <td>0.0</td>\n",
       "      <td>NaN</td>\n",
       "    </tr>\n",
       "    <tr>\n",
       "      <th>17</th>\n",
       "      <td>20</td>\n",
       "      <td>21000</td>\n",
       "      <td>6</td>\n",
       "      <td>5</td>\n",
       "      <td>1953</td>\n",
       "      <td>1953</td>\n",
       "      <td>184.0</td>\n",
       "      <td>35.0</td>\n",
       "      <td>869.0</td>\n",
       "      <td>905.0</td>\n",
       "      <td>...</td>\n",
       "      <td>0.0</td>\n",
       "      <td>0.0</td>\n",
       "      <td>0.0</td>\n",
       "      <td>1.0</td>\n",
       "      <td>0.0</td>\n",
       "      <td>0.0</td>\n",
       "      <td>0.0</td>\n",
       "      <td>0.0</td>\n",
       "      <td>0.0</td>\n",
       "      <td>NaN</td>\n",
       "    </tr>\n",
       "    <tr>\n",
       "      <th>18</th>\n",
       "      <td>20</td>\n",
       "      <td>11616</td>\n",
       "      <td>5</td>\n",
       "      <td>5</td>\n",
       "      <td>1962</td>\n",
       "      <td>1962</td>\n",
       "      <td>116.0</td>\n",
       "      <td>170.0</td>\n",
       "      <td>670.0</td>\n",
       "      <td>252.0</td>\n",
       "      <td>...</td>\n",
       "      <td>0.0</td>\n",
       "      <td>0.0</td>\n",
       "      <td>1.0</td>\n",
       "      <td>0.0</td>\n",
       "      <td>0.0</td>\n",
       "      <td>0.0</td>\n",
       "      <td>0.0</td>\n",
       "      <td>1.0</td>\n",
       "      <td>0.0</td>\n",
       "      <td>NaN</td>\n",
       "    </tr>\n",
       "    <tr>\n",
       "      <th>19</th>\n",
       "      <td>80</td>\n",
       "      <td>21453</td>\n",
       "      <td>6</td>\n",
       "      <td>5</td>\n",
       "      <td>1969</td>\n",
       "      <td>1969</td>\n",
       "      <td>0.0</td>\n",
       "      <td>938.0</td>\n",
       "      <td>0.0</td>\n",
       "      <td>0.0</td>\n",
       "      <td>...</td>\n",
       "      <td>0.0</td>\n",
       "      <td>0.0</td>\n",
       "      <td>1.0</td>\n",
       "      <td>0.0</td>\n",
       "      <td>0.0</td>\n",
       "      <td>0.0</td>\n",
       "      <td>0.0</td>\n",
       "      <td>1.0</td>\n",
       "      <td>0.0</td>\n",
       "      <td>NaN</td>\n",
       "    </tr>\n",
       "    <tr>\n",
       "      <th>20</th>\n",
       "      <td>120</td>\n",
       "      <td>4928</td>\n",
       "      <td>6</td>\n",
       "      <td>5</td>\n",
       "      <td>1976</td>\n",
       "      <td>1976</td>\n",
       "      <td>0.0</td>\n",
       "      <td>120.0</td>\n",
       "      <td>0.0</td>\n",
       "      <td>958.0</td>\n",
       "      <td>...</td>\n",
       "      <td>0.0</td>\n",
       "      <td>0.0</td>\n",
       "      <td>1.0</td>\n",
       "      <td>0.0</td>\n",
       "      <td>0.0</td>\n",
       "      <td>0.0</td>\n",
       "      <td>0.0</td>\n",
       "      <td>1.0</td>\n",
       "      <td>0.0</td>\n",
       "      <td>NaN</td>\n",
       "    </tr>\n",
       "    <tr>\n",
       "      <th>21</th>\n",
       "      <td>60</td>\n",
       "      <td>12224</td>\n",
       "      <td>6</td>\n",
       "      <td>5</td>\n",
       "      <td>2000</td>\n",
       "      <td>2000</td>\n",
       "      <td>40.0</td>\n",
       "      <td>695.0</td>\n",
       "      <td>0.0</td>\n",
       "      <td>297.0</td>\n",
       "      <td>...</td>\n",
       "      <td>0.0</td>\n",
       "      <td>0.0</td>\n",
       "      <td>1.0</td>\n",
       "      <td>0.0</td>\n",
       "      <td>0.0</td>\n",
       "      <td>0.0</td>\n",
       "      <td>0.0</td>\n",
       "      <td>1.0</td>\n",
       "      <td>0.0</td>\n",
       "      <td>NaN</td>\n",
       "    </tr>\n",
       "    <tr>\n",
       "      <th>22</th>\n",
       "      <td>20</td>\n",
       "      <td>6853</td>\n",
       "      <td>8</td>\n",
       "      <td>5</td>\n",
       "      <td>2001</td>\n",
       "      <td>2002</td>\n",
       "      <td>136.0</td>\n",
       "      <td>1005.0</td>\n",
       "      <td>0.0</td>\n",
       "      <td>262.0</td>\n",
       "      <td>...</td>\n",
       "      <td>0.0</td>\n",
       "      <td>0.0</td>\n",
       "      <td>1.0</td>\n",
       "      <td>0.0</td>\n",
       "      <td>0.0</td>\n",
       "      <td>0.0</td>\n",
       "      <td>0.0</td>\n",
       "      <td>1.0</td>\n",
       "      <td>0.0</td>\n",
       "      <td>NaN</td>\n",
       "    </tr>\n",
       "    <tr>\n",
       "      <th>23</th>\n",
       "      <td>20</td>\n",
       "      <td>10355</td>\n",
       "      <td>5</td>\n",
       "      <td>5</td>\n",
       "      <td>1967</td>\n",
       "      <td>1967</td>\n",
       "      <td>196.0</td>\n",
       "      <td>695.0</td>\n",
       "      <td>0.0</td>\n",
       "      <td>519.0</td>\n",
       "      <td>...</td>\n",
       "      <td>0.0</td>\n",
       "      <td>0.0</td>\n",
       "      <td>1.0</td>\n",
       "      <td>0.0</td>\n",
       "      <td>0.0</td>\n",
       "      <td>0.0</td>\n",
       "      <td>0.0</td>\n",
       "      <td>1.0</td>\n",
       "      <td>0.0</td>\n",
       "      <td>NaN</td>\n",
       "    </tr>\n",
       "    <tr>\n",
       "      <th>24</th>\n",
       "      <td>60</td>\n",
       "      <td>9505</td>\n",
       "      <td>7</td>\n",
       "      <td>5</td>\n",
       "      <td>2001</td>\n",
       "      <td>2001</td>\n",
       "      <td>180.0</td>\n",
       "      <td>0.0</td>\n",
       "      <td>0.0</td>\n",
       "      <td>884.0</td>\n",
       "      <td>...</td>\n",
       "      <td>0.0</td>\n",
       "      <td>0.0</td>\n",
       "      <td>1.0</td>\n",
       "      <td>0.0</td>\n",
       "      <td>0.0</td>\n",
       "      <td>0.0</td>\n",
       "      <td>0.0</td>\n",
       "      <td>1.0</td>\n",
       "      <td>0.0</td>\n",
       "      <td>NaN</td>\n",
       "    </tr>\n",
       "    <tr>\n",
       "      <th>25</th>\n",
       "      <td>50</td>\n",
       "      <td>6240</td>\n",
       "      <td>5</td>\n",
       "      <td>4</td>\n",
       "      <td>1936</td>\n",
       "      <td>1950</td>\n",
       "      <td>0.0</td>\n",
       "      <td>0.0</td>\n",
       "      <td>0.0</td>\n",
       "      <td>896.0</td>\n",
       "      <td>...</td>\n",
       "      <td>0.0</td>\n",
       "      <td>0.0</td>\n",
       "      <td>1.0</td>\n",
       "      <td>0.0</td>\n",
       "      <td>0.0</td>\n",
       "      <td>0.0</td>\n",
       "      <td>0.0</td>\n",
       "      <td>1.0</td>\n",
       "      <td>0.0</td>\n",
       "      <td>NaN</td>\n",
       "    </tr>\n",
       "    <tr>\n",
       "      <th>26</th>\n",
       "      <td>60</td>\n",
       "      <td>14803</td>\n",
       "      <td>6</td>\n",
       "      <td>5</td>\n",
       "      <td>1971</td>\n",
       "      <td>1971</td>\n",
       "      <td>252.0</td>\n",
       "      <td>416.0</td>\n",
       "      <td>0.0</td>\n",
       "      <td>409.0</td>\n",
       "      <td>...</td>\n",
       "      <td>0.0</td>\n",
       "      <td>0.0</td>\n",
       "      <td>1.0</td>\n",
       "      <td>0.0</td>\n",
       "      <td>0.0</td>\n",
       "      <td>0.0</td>\n",
       "      <td>0.0</td>\n",
       "      <td>1.0</td>\n",
       "      <td>0.0</td>\n",
       "      <td>NaN</td>\n",
       "    </tr>\n",
       "    <tr>\n",
       "      <th>27</th>\n",
       "      <td>20</td>\n",
       "      <td>13500</td>\n",
       "      <td>6</td>\n",
       "      <td>7</td>\n",
       "      <td>1960</td>\n",
       "      <td>1975</td>\n",
       "      <td>0.0</td>\n",
       "      <td>429.0</td>\n",
       "      <td>1080.0</td>\n",
       "      <td>93.0</td>\n",
       "      <td>...</td>\n",
       "      <td>0.0</td>\n",
       "      <td>0.0</td>\n",
       "      <td>1.0</td>\n",
       "      <td>0.0</td>\n",
       "      <td>0.0</td>\n",
       "      <td>0.0</td>\n",
       "      <td>0.0</td>\n",
       "      <td>1.0</td>\n",
       "      <td>0.0</td>\n",
       "      <td>NaN</td>\n",
       "    </tr>\n",
       "    <tr>\n",
       "      <th>28</th>\n",
       "      <td>20</td>\n",
       "      <td>11120</td>\n",
       "      <td>6</td>\n",
       "      <td>6</td>\n",
       "      <td>1984</td>\n",
       "      <td>1984</td>\n",
       "      <td>0.0</td>\n",
       "      <td>660.0</td>\n",
       "      <td>0.0</td>\n",
       "      <td>572.0</td>\n",
       "      <td>...</td>\n",
       "      <td>0.0</td>\n",
       "      <td>0.0</td>\n",
       "      <td>1.0</td>\n",
       "      <td>0.0</td>\n",
       "      <td>0.0</td>\n",
       "      <td>0.0</td>\n",
       "      <td>0.0</td>\n",
       "      <td>1.0</td>\n",
       "      <td>0.0</td>\n",
       "      <td>NaN</td>\n",
       "    </tr>\n",
       "    <tr>\n",
       "      <th>29</th>\n",
       "      <td>20</td>\n",
       "      <td>10708</td>\n",
       "      <td>5</td>\n",
       "      <td>5</td>\n",
       "      <td>1955</td>\n",
       "      <td>1993</td>\n",
       "      <td>0.0</td>\n",
       "      <td>379.0</td>\n",
       "      <td>768.0</td>\n",
       "      <td>470.0</td>\n",
       "      <td>...</td>\n",
       "      <td>0.0</td>\n",
       "      <td>0.0</td>\n",
       "      <td>0.0</td>\n",
       "      <td>0.0</td>\n",
       "      <td>0.0</td>\n",
       "      <td>0.0</td>\n",
       "      <td>0.0</td>\n",
       "      <td>1.0</td>\n",
       "      <td>0.0</td>\n",
       "      <td>NaN</td>\n",
       "    </tr>\n",
       "    <tr>\n",
       "      <th>...</th>\n",
       "      <td>...</td>\n",
       "      <td>...</td>\n",
       "      <td>...</td>\n",
       "      <td>...</td>\n",
       "      <td>...</td>\n",
       "      <td>...</td>\n",
       "      <td>...</td>\n",
       "      <td>...</td>\n",
       "      <td>...</td>\n",
       "      <td>...</td>\n",
       "      <td>...</td>\n",
       "      <td>...</td>\n",
       "      <td>...</td>\n",
       "      <td>...</td>\n",
       "      <td>...</td>\n",
       "      <td>...</td>\n",
       "      <td>...</td>\n",
       "      <td>...</td>\n",
       "      <td>...</td>\n",
       "      <td>...</td>\n",
       "      <td>...</td>\n",
       "    </tr>\n",
       "    <tr>\n",
       "      <th>456</th>\n",
       "      <td>60</td>\n",
       "      <td>12585</td>\n",
       "      <td>8</td>\n",
       "      <td>5</td>\n",
       "      <td>1993</td>\n",
       "      <td>1993</td>\n",
       "      <td>420.0</td>\n",
       "      <td>247.0</td>\n",
       "      <td>1039.0</td>\n",
       "      <td>0.0</td>\n",
       "      <td>...</td>\n",
       "      <td>0.0</td>\n",
       "      <td>0.0</td>\n",
       "      <td>1.0</td>\n",
       "      <td>0.0</td>\n",
       "      <td>0.0</td>\n",
       "      <td>0.0</td>\n",
       "      <td>0.0</td>\n",
       "      <td>1.0</td>\n",
       "      <td>0.0</td>\n",
       "      <td>NaN</td>\n",
       "    </tr>\n",
       "    <tr>\n",
       "      <th>457</th>\n",
       "      <td>60</td>\n",
       "      <td>9019</td>\n",
       "      <td>6</td>\n",
       "      <td>5</td>\n",
       "      <td>1994</td>\n",
       "      <td>1994</td>\n",
       "      <td>0.0</td>\n",
       "      <td>274.0</td>\n",
       "      <td>0.0</td>\n",
       "      <td>362.0</td>\n",
       "      <td>...</td>\n",
       "      <td>0.0</td>\n",
       "      <td>0.0</td>\n",
       "      <td>1.0</td>\n",
       "      <td>0.0</td>\n",
       "      <td>0.0</td>\n",
       "      <td>0.0</td>\n",
       "      <td>0.0</td>\n",
       "      <td>1.0</td>\n",
       "      <td>0.0</td>\n",
       "      <td>NaN</td>\n",
       "    </tr>\n",
       "    <tr>\n",
       "      <th>458</th>\n",
       "      <td>20</td>\n",
       "      <td>9240</td>\n",
       "      <td>5</td>\n",
       "      <td>6</td>\n",
       "      <td>1962</td>\n",
       "      <td>2002</td>\n",
       "      <td>0.0</td>\n",
       "      <td>612.0</td>\n",
       "      <td>0.0</td>\n",
       "      <td>252.0</td>\n",
       "      <td>...</td>\n",
       "      <td>0.0</td>\n",
       "      <td>0.0</td>\n",
       "      <td>1.0</td>\n",
       "      <td>0.0</td>\n",
       "      <td>0.0</td>\n",
       "      <td>0.0</td>\n",
       "      <td>0.0</td>\n",
       "      <td>1.0</td>\n",
       "      <td>0.0</td>\n",
       "      <td>NaN</td>\n",
       "    </tr>\n",
       "    <tr>\n",
       "      <th>459</th>\n",
       "      <td>20</td>\n",
       "      <td>9308</td>\n",
       "      <td>5</td>\n",
       "      <td>5</td>\n",
       "      <td>1965</td>\n",
       "      <td>1965</td>\n",
       "      <td>0.0</td>\n",
       "      <td>554.0</td>\n",
       "      <td>0.0</td>\n",
       "      <td>430.0</td>\n",
       "      <td>...</td>\n",
       "      <td>0.0</td>\n",
       "      <td>0.0</td>\n",
       "      <td>1.0</td>\n",
       "      <td>0.0</td>\n",
       "      <td>0.0</td>\n",
       "      <td>0.0</td>\n",
       "      <td>0.0</td>\n",
       "      <td>1.0</td>\n",
       "      <td>0.0</td>\n",
       "      <td>NaN</td>\n",
       "    </tr>\n",
       "    <tr>\n",
       "      <th>460</th>\n",
       "      <td>20</td>\n",
       "      <td>8638</td>\n",
       "      <td>5</td>\n",
       "      <td>6</td>\n",
       "      <td>1963</td>\n",
       "      <td>1963</td>\n",
       "      <td>0.0</td>\n",
       "      <td>181.0</td>\n",
       "      <td>0.0</td>\n",
       "      <td>744.0</td>\n",
       "      <td>...</td>\n",
       "      <td>0.0</td>\n",
       "      <td>0.0</td>\n",
       "      <td>1.0</td>\n",
       "      <td>0.0</td>\n",
       "      <td>0.0</td>\n",
       "      <td>0.0</td>\n",
       "      <td>0.0</td>\n",
       "      <td>1.0</td>\n",
       "      <td>0.0</td>\n",
       "      <td>NaN</td>\n",
       "    </tr>\n",
       "    <tr>\n",
       "      <th>461</th>\n",
       "      <td>20</td>\n",
       "      <td>13052</td>\n",
       "      <td>5</td>\n",
       "      <td>6</td>\n",
       "      <td>1965</td>\n",
       "      <td>1965</td>\n",
       "      <td>0.0</td>\n",
       "      <td>712.0</td>\n",
       "      <td>0.0</td>\n",
       "      <td>312.0</td>\n",
       "      <td>...</td>\n",
       "      <td>0.0</td>\n",
       "      <td>0.0</td>\n",
       "      <td>1.0</td>\n",
       "      <td>0.0</td>\n",
       "      <td>0.0</td>\n",
       "      <td>0.0</td>\n",
       "      <td>0.0</td>\n",
       "      <td>1.0</td>\n",
       "      <td>0.0</td>\n",
       "      <td>NaN</td>\n",
       "    </tr>\n",
       "    <tr>\n",
       "      <th>462</th>\n",
       "      <td>20</td>\n",
       "      <td>8020</td>\n",
       "      <td>5</td>\n",
       "      <td>6</td>\n",
       "      <td>1964</td>\n",
       "      <td>1964</td>\n",
       "      <td>0.0</td>\n",
       "      <td>644.0</td>\n",
       "      <td>0.0</td>\n",
       "      <td>268.0</td>\n",
       "      <td>...</td>\n",
       "      <td>0.0</td>\n",
       "      <td>0.0</td>\n",
       "      <td>1.0</td>\n",
       "      <td>0.0</td>\n",
       "      <td>0.0</td>\n",
       "      <td>0.0</td>\n",
       "      <td>0.0</td>\n",
       "      <td>1.0</td>\n",
       "      <td>0.0</td>\n",
       "      <td>NaN</td>\n",
       "    </tr>\n",
       "    <tr>\n",
       "      <th>463</th>\n",
       "      <td>20</td>\n",
       "      <td>8789</td>\n",
       "      <td>5</td>\n",
       "      <td>6</td>\n",
       "      <td>1967</td>\n",
       "      <td>1967</td>\n",
       "      <td>0.0</td>\n",
       "      <td>659.0</td>\n",
       "      <td>0.0</td>\n",
       "      <td>253.0</td>\n",
       "      <td>...</td>\n",
       "      <td>0.0</td>\n",
       "      <td>0.0</td>\n",
       "      <td>1.0</td>\n",
       "      <td>0.0</td>\n",
       "      <td>0.0</td>\n",
       "      <td>0.0</td>\n",
       "      <td>0.0</td>\n",
       "      <td>1.0</td>\n",
       "      <td>0.0</td>\n",
       "      <td>NaN</td>\n",
       "    </tr>\n",
       "    <tr>\n",
       "      <th>464</th>\n",
       "      <td>160</td>\n",
       "      <td>2998</td>\n",
       "      <td>6</td>\n",
       "      <td>5</td>\n",
       "      <td>2000</td>\n",
       "      <td>2000</td>\n",
       "      <td>513.0</td>\n",
       "      <td>353.0</td>\n",
       "      <td>0.0</td>\n",
       "      <td>403.0</td>\n",
       "      <td>...</td>\n",
       "      <td>0.0</td>\n",
       "      <td>0.0</td>\n",
       "      <td>1.0</td>\n",
       "      <td>0.0</td>\n",
       "      <td>0.0</td>\n",
       "      <td>0.0</td>\n",
       "      <td>0.0</td>\n",
       "      <td>1.0</td>\n",
       "      <td>0.0</td>\n",
       "      <td>NaN</td>\n",
       "    </tr>\n",
       "    <tr>\n",
       "      <th>465</th>\n",
       "      <td>160</td>\n",
       "      <td>4447</td>\n",
       "      <td>7</td>\n",
       "      <td>5</td>\n",
       "      <td>2003</td>\n",
       "      <td>2003</td>\n",
       "      <td>0.0</td>\n",
       "      <td>0.0</td>\n",
       "      <td>0.0</td>\n",
       "      <td>530.0</td>\n",
       "      <td>...</td>\n",
       "      <td>0.0</td>\n",
       "      <td>0.0</td>\n",
       "      <td>1.0</td>\n",
       "      <td>0.0</td>\n",
       "      <td>0.0</td>\n",
       "      <td>0.0</td>\n",
       "      <td>0.0</td>\n",
       "      <td>1.0</td>\n",
       "      <td>0.0</td>\n",
       "      <td>NaN</td>\n",
       "    </tr>\n",
       "    <tr>\n",
       "      <th>466</th>\n",
       "      <td>20</td>\n",
       "      <td>9759</td>\n",
       "      <td>5</td>\n",
       "      <td>5</td>\n",
       "      <td>1966</td>\n",
       "      <td>1966</td>\n",
       "      <td>0.0</td>\n",
       "      <td>799.0</td>\n",
       "      <td>0.0</td>\n",
       "      <td>252.0</td>\n",
       "      <td>...</td>\n",
       "      <td>0.0</td>\n",
       "      <td>0.0</td>\n",
       "      <td>1.0</td>\n",
       "      <td>0.0</td>\n",
       "      <td>0.0</td>\n",
       "      <td>0.0</td>\n",
       "      <td>0.0</td>\n",
       "      <td>1.0</td>\n",
       "      <td>0.0</td>\n",
       "      <td>NaN</td>\n",
       "    </tr>\n",
       "    <tr>\n",
       "      <th>467</th>\n",
       "      <td>20</td>\n",
       "      <td>10368</td>\n",
       "      <td>6</td>\n",
       "      <td>6</td>\n",
       "      <td>1964</td>\n",
       "      <td>1964</td>\n",
       "      <td>112.0</td>\n",
       "      <td>260.0</td>\n",
       "      <td>748.0</td>\n",
       "      <td>0.0</td>\n",
       "      <td>...</td>\n",
       "      <td>0.0</td>\n",
       "      <td>0.0</td>\n",
       "      <td>1.0</td>\n",
       "      <td>0.0</td>\n",
       "      <td>0.0</td>\n",
       "      <td>0.0</td>\n",
       "      <td>0.0</td>\n",
       "      <td>1.0</td>\n",
       "      <td>0.0</td>\n",
       "      <td>NaN</td>\n",
       "    </tr>\n",
       "    <tr>\n",
       "      <th>468</th>\n",
       "      <td>90</td>\n",
       "      <td>8917</td>\n",
       "      <td>5</td>\n",
       "      <td>5</td>\n",
       "      <td>1967</td>\n",
       "      <td>1967</td>\n",
       "      <td>0.0</td>\n",
       "      <td>0.0</td>\n",
       "      <td>0.0</td>\n",
       "      <td>1584.0</td>\n",
       "      <td>...</td>\n",
       "      <td>0.0</td>\n",
       "      <td>0.0</td>\n",
       "      <td>1.0</td>\n",
       "      <td>0.0</td>\n",
       "      <td>0.0</td>\n",
       "      <td>0.0</td>\n",
       "      <td>0.0</td>\n",
       "      <td>1.0</td>\n",
       "      <td>0.0</td>\n",
       "      <td>NaN</td>\n",
       "    </tr>\n",
       "    <tr>\n",
       "      <th>469</th>\n",
       "      <td>80</td>\n",
       "      <td>12700</td>\n",
       "      <td>6</td>\n",
       "      <td>5</td>\n",
       "      <td>1964</td>\n",
       "      <td>1964</td>\n",
       "      <td>0.0</td>\n",
       "      <td>939.0</td>\n",
       "      <td>0.0</td>\n",
       "      <td>307.0</td>\n",
       "      <td>...</td>\n",
       "      <td>0.0</td>\n",
       "      <td>0.0</td>\n",
       "      <td>1.0</td>\n",
       "      <td>0.0</td>\n",
       "      <td>0.0</td>\n",
       "      <td>0.0</td>\n",
       "      <td>0.0</td>\n",
       "      <td>1.0</td>\n",
       "      <td>0.0</td>\n",
       "      <td>NaN</td>\n",
       "    </tr>\n",
       "    <tr>\n",
       "      <th>470</th>\n",
       "      <td>20</td>\n",
       "      <td>9610</td>\n",
       "      <td>6</td>\n",
       "      <td>6</td>\n",
       "      <td>1958</td>\n",
       "      <td>1958</td>\n",
       "      <td>632.0</td>\n",
       "      <td>203.0</td>\n",
       "      <td>0.0</td>\n",
       "      <td>918.0</td>\n",
       "      <td>...</td>\n",
       "      <td>0.0</td>\n",
       "      <td>0.0</td>\n",
       "      <td>1.0</td>\n",
       "      <td>0.0</td>\n",
       "      <td>0.0</td>\n",
       "      <td>0.0</td>\n",
       "      <td>0.0</td>\n",
       "      <td>1.0</td>\n",
       "      <td>0.0</td>\n",
       "      <td>NaN</td>\n",
       "    </tr>\n",
       "    <tr>\n",
       "      <th>471</th>\n",
       "      <td>60</td>\n",
       "      <td>18275</td>\n",
       "      <td>7</td>\n",
       "      <td>8</td>\n",
       "      <td>1962</td>\n",
       "      <td>1998</td>\n",
       "      <td>0.0</td>\n",
       "      <td>636.0</td>\n",
       "      <td>0.0</td>\n",
       "      <td>802.0</td>\n",
       "      <td>...</td>\n",
       "      <td>0.0</td>\n",
       "      <td>0.0</td>\n",
       "      <td>1.0</td>\n",
       "      <td>0.0</td>\n",
       "      <td>0.0</td>\n",
       "      <td>0.0</td>\n",
       "      <td>0.0</td>\n",
       "      <td>1.0</td>\n",
       "      <td>0.0</td>\n",
       "      <td>NaN</td>\n",
       "    </tr>\n",
       "    <tr>\n",
       "      <th>472</th>\n",
       "      <td>20</td>\n",
       "      <td>11327</td>\n",
       "      <td>5</td>\n",
       "      <td>6</td>\n",
       "      <td>1967</td>\n",
       "      <td>1967</td>\n",
       "      <td>305.0</td>\n",
       "      <td>779.0</td>\n",
       "      <td>0.0</td>\n",
       "      <td>285.0</td>\n",
       "      <td>...</td>\n",
       "      <td>0.0</td>\n",
       "      <td>0.0</td>\n",
       "      <td>1.0</td>\n",
       "      <td>0.0</td>\n",
       "      <td>0.0</td>\n",
       "      <td>0.0</td>\n",
       "      <td>0.0</td>\n",
       "      <td>1.0</td>\n",
       "      <td>0.0</td>\n",
       "      <td>NaN</td>\n",
       "    </tr>\n",
       "    <tr>\n",
       "      <th>473</th>\n",
       "      <td>20</td>\n",
       "      <td>9535</td>\n",
       "      <td>5</td>\n",
       "      <td>5</td>\n",
       "      <td>1967</td>\n",
       "      <td>1967</td>\n",
       "      <td>450.0</td>\n",
       "      <td>194.0</td>\n",
       "      <td>982.0</td>\n",
       "      <td>0.0</td>\n",
       "      <td>...</td>\n",
       "      <td>0.0</td>\n",
       "      <td>0.0</td>\n",
       "      <td>1.0</td>\n",
       "      <td>0.0</td>\n",
       "      <td>0.0</td>\n",
       "      <td>0.0</td>\n",
       "      <td>0.0</td>\n",
       "      <td>1.0</td>\n",
       "      <td>0.0</td>\n",
       "      <td>NaN</td>\n",
       "    </tr>\n",
       "    <tr>\n",
       "      <th>474</th>\n",
       "      <td>80</td>\n",
       "      <td>7176</td>\n",
       "      <td>6</td>\n",
       "      <td>6</td>\n",
       "      <td>1978</td>\n",
       "      <td>1978</td>\n",
       "      <td>200.0</td>\n",
       "      <td>794.0</td>\n",
       "      <td>0.0</td>\n",
       "      <td>166.0</td>\n",
       "      <td>...</td>\n",
       "      <td>0.0</td>\n",
       "      <td>0.0</td>\n",
       "      <td>1.0</td>\n",
       "      <td>0.0</td>\n",
       "      <td>0.0</td>\n",
       "      <td>0.0</td>\n",
       "      <td>0.0</td>\n",
       "      <td>1.0</td>\n",
       "      <td>0.0</td>\n",
       "      <td>NaN</td>\n",
       "    </tr>\n",
       "    <tr>\n",
       "      <th>475</th>\n",
       "      <td>90</td>\n",
       "      <td>9662</td>\n",
       "      <td>5</td>\n",
       "      <td>4</td>\n",
       "      <td>1977</td>\n",
       "      <td>1977</td>\n",
       "      <td>0.0</td>\n",
       "      <td>0.0</td>\n",
       "      <td>0.0</td>\n",
       "      <td>1967.0</td>\n",
       "      <td>...</td>\n",
       "      <td>0.0</td>\n",
       "      <td>0.0</td>\n",
       "      <td>1.0</td>\n",
       "      <td>0.0</td>\n",
       "      <td>0.0</td>\n",
       "      <td>0.0</td>\n",
       "      <td>0.0</td>\n",
       "      <td>1.0</td>\n",
       "      <td>0.0</td>\n",
       "      <td>NaN</td>\n",
       "    </tr>\n",
       "    <tr>\n",
       "      <th>476</th>\n",
       "      <td>30</td>\n",
       "      <td>17529</td>\n",
       "      <td>5</td>\n",
       "      <td>5</td>\n",
       "      <td>1924</td>\n",
       "      <td>1950</td>\n",
       "      <td>65.0</td>\n",
       "      <td>0.0</td>\n",
       "      <td>0.0</td>\n",
       "      <td>872.0</td>\n",
       "      <td>...</td>\n",
       "      <td>0.0</td>\n",
       "      <td>0.0</td>\n",
       "      <td>1.0</td>\n",
       "      <td>0.0</td>\n",
       "      <td>0.0</td>\n",
       "      <td>0.0</td>\n",
       "      <td>0.0</td>\n",
       "      <td>1.0</td>\n",
       "      <td>0.0</td>\n",
       "      <td>NaN</td>\n",
       "    </tr>\n",
       "    <tr>\n",
       "      <th>477</th>\n",
       "      <td>20</td>\n",
       "      <td>20355</td>\n",
       "      <td>7</td>\n",
       "      <td>6</td>\n",
       "      <td>1967</td>\n",
       "      <td>1967</td>\n",
       "      <td>123.0</td>\n",
       "      <td>810.0</td>\n",
       "      <td>826.0</td>\n",
       "      <td>229.0</td>\n",
       "      <td>...</td>\n",
       "      <td>0.0</td>\n",
       "      <td>0.0</td>\n",
       "      <td>1.0</td>\n",
       "      <td>0.0</td>\n",
       "      <td>0.0</td>\n",
       "      <td>0.0</td>\n",
       "      <td>0.0</td>\n",
       "      <td>1.0</td>\n",
       "      <td>0.0</td>\n",
       "      <td>NaN</td>\n",
       "    </tr>\n",
       "    <tr>\n",
       "      <th>478</th>\n",
       "      <td>150</td>\n",
       "      <td>1700</td>\n",
       "      <td>7</td>\n",
       "      <td>5</td>\n",
       "      <td>1980</td>\n",
       "      <td>1981</td>\n",
       "      <td>0.0</td>\n",
       "      <td>397.0</td>\n",
       "      <td>0.0</td>\n",
       "      <td>33.0</td>\n",
       "      <td>...</td>\n",
       "      <td>0.0</td>\n",
       "      <td>0.0</td>\n",
       "      <td>1.0</td>\n",
       "      <td>0.0</td>\n",
       "      <td>0.0</td>\n",
       "      <td>0.0</td>\n",
       "      <td>0.0</td>\n",
       "      <td>1.0</td>\n",
       "      <td>0.0</td>\n",
       "      <td>NaN</td>\n",
       "    </tr>\n",
       "    <tr>\n",
       "      <th>479</th>\n",
       "      <td>20</td>\n",
       "      <td>8685</td>\n",
       "      <td>7</td>\n",
       "      <td>5</td>\n",
       "      <td>1998</td>\n",
       "      <td>1998</td>\n",
       "      <td>0.0</td>\n",
       "      <td>846.0</td>\n",
       "      <td>0.0</td>\n",
       "      <td>579.0</td>\n",
       "      <td>...</td>\n",
       "      <td>0.0</td>\n",
       "      <td>0.0</td>\n",
       "      <td>1.0</td>\n",
       "      <td>0.0</td>\n",
       "      <td>0.0</td>\n",
       "      <td>0.0</td>\n",
       "      <td>0.0</td>\n",
       "      <td>1.0</td>\n",
       "      <td>0.0</td>\n",
       "      <td>NaN</td>\n",
       "    </tr>\n",
       "    <tr>\n",
       "      <th>480</th>\n",
       "      <td>60</td>\n",
       "      <td>9930</td>\n",
       "      <td>7</td>\n",
       "      <td>5</td>\n",
       "      <td>2002</td>\n",
       "      <td>2002</td>\n",
       "      <td>199.0</td>\n",
       "      <td>456.0</td>\n",
       "      <td>0.0</td>\n",
       "      <td>370.0</td>\n",
       "      <td>...</td>\n",
       "      <td>0.0</td>\n",
       "      <td>0.0</td>\n",
       "      <td>1.0</td>\n",
       "      <td>0.0</td>\n",
       "      <td>0.0</td>\n",
       "      <td>0.0</td>\n",
       "      <td>0.0</td>\n",
       "      <td>1.0</td>\n",
       "      <td>0.0</td>\n",
       "      <td>NaN</td>\n",
       "    </tr>\n",
       "    <tr>\n",
       "      <th>481</th>\n",
       "      <td>20</td>\n",
       "      <td>11088</td>\n",
       "      <td>8</td>\n",
       "      <td>5</td>\n",
       "      <td>2002</td>\n",
       "      <td>2002</td>\n",
       "      <td>0.0</td>\n",
       "      <td>872.0</td>\n",
       "      <td>0.0</td>\n",
       "      <td>476.0</td>\n",
       "      <td>...</td>\n",
       "      <td>0.0</td>\n",
       "      <td>0.0</td>\n",
       "      <td>1.0</td>\n",
       "      <td>0.0</td>\n",
       "      <td>0.0</td>\n",
       "      <td>0.0</td>\n",
       "      <td>0.0</td>\n",
       "      <td>1.0</td>\n",
       "      <td>0.0</td>\n",
       "      <td>NaN</td>\n",
       "    </tr>\n",
       "    <tr>\n",
       "      <th>482</th>\n",
       "      <td>60</td>\n",
       "      <td>21533</td>\n",
       "      <td>7</td>\n",
       "      <td>5</td>\n",
       "      <td>1996</td>\n",
       "      <td>1997</td>\n",
       "      <td>0.0</td>\n",
       "      <td>0.0</td>\n",
       "      <td>0.0</td>\n",
       "      <td>1065.0</td>\n",
       "      <td>...</td>\n",
       "      <td>0.0</td>\n",
       "      <td>0.0</td>\n",
       "      <td>1.0</td>\n",
       "      <td>0.0</td>\n",
       "      <td>0.0</td>\n",
       "      <td>0.0</td>\n",
       "      <td>0.0</td>\n",
       "      <td>1.0</td>\n",
       "      <td>0.0</td>\n",
       "      <td>NaN</td>\n",
       "    </tr>\n",
       "    <tr>\n",
       "      <th>483</th>\n",
       "      <td>20</td>\n",
       "      <td>50102</td>\n",
       "      <td>6</td>\n",
       "      <td>5</td>\n",
       "      <td>1958</td>\n",
       "      <td>1958</td>\n",
       "      <td>0.0</td>\n",
       "      <td>909.0</td>\n",
       "      <td>0.0</td>\n",
       "      <td>723.0</td>\n",
       "      <td>...</td>\n",
       "      <td>0.0</td>\n",
       "      <td>0.0</td>\n",
       "      <td>1.0</td>\n",
       "      <td>0.0</td>\n",
       "      <td>0.0</td>\n",
       "      <td>1.0</td>\n",
       "      <td>0.0</td>\n",
       "      <td>0.0</td>\n",
       "      <td>0.0</td>\n",
       "      <td>NaN</td>\n",
       "    </tr>\n",
       "    <tr>\n",
       "      <th>484</th>\n",
       "      <td>20</td>\n",
       "      <td>8098</td>\n",
       "      <td>6</td>\n",
       "      <td>5</td>\n",
       "      <td>2000</td>\n",
       "      <td>2000</td>\n",
       "      <td>0.0</td>\n",
       "      <td>1136.0</td>\n",
       "      <td>116.0</td>\n",
       "      <td>129.0</td>\n",
       "      <td>...</td>\n",
       "      <td>0.0</td>\n",
       "      <td>0.0</td>\n",
       "      <td>1.0</td>\n",
       "      <td>0.0</td>\n",
       "      <td>0.0</td>\n",
       "      <td>0.0</td>\n",
       "      <td>0.0</td>\n",
       "      <td>1.0</td>\n",
       "      <td>0.0</td>\n",
       "      <td>NaN</td>\n",
       "    </tr>\n",
       "    <tr>\n",
       "      <th>485</th>\n",
       "      <td>90</td>\n",
       "      <td>11836</td>\n",
       "      <td>5</td>\n",
       "      <td>5</td>\n",
       "      <td>1970</td>\n",
       "      <td>1970</td>\n",
       "      <td>0.0</td>\n",
       "      <td>149.0</td>\n",
       "      <td>0.0</td>\n",
       "      <td>1503.0</td>\n",
       "      <td>...</td>\n",
       "      <td>0.0</td>\n",
       "      <td>0.0</td>\n",
       "      <td>1.0</td>\n",
       "      <td>0.0</td>\n",
       "      <td>0.0</td>\n",
       "      <td>0.0</td>\n",
       "      <td>0.0</td>\n",
       "      <td>1.0</td>\n",
       "      <td>0.0</td>\n",
       "      <td>NaN</td>\n",
       "    </tr>\n",
       "  </tbody>\n",
       "</table>\n",
       "<p>486 rows × 270 columns</p>\n",
       "</div>"
      ],
      "text/plain": [
       "    MSSubClass LotArea OverallQual OverallCond YearBuilt YearRemodAdd  \\\n",
       "0           60   10382           7           6      1973         1973   \n",
       "1           20   12968           5           6      1962         1962   \n",
       "2           20   10920           6           5      1960         1960   \n",
       "3           20   11241           6           7      1970         1970   \n",
       "4           20    8246           5           8      1968         2001   \n",
       "5           20    8544           5           6      1966         2006   \n",
       "6           85    9180           5           7      1983         1983   \n",
       "7           20    9200           5           6      1975         1980   \n",
       "8           60   13869           6           6      1997         1997   \n",
       "9           60    9375           7           5      1997         1998   \n",
       "10          20   19900           7           5      1970         1989   \n",
       "11          20    8475           4           7      1956         1956   \n",
       "12          80    8530           7           5      1995         1996   \n",
       "13          60    9765           6           8      1993         1993   \n",
       "14          20   10603           6           7      1977         2001   \n",
       "15          50    7758           7           4      1931         1950   \n",
       "16          80    7750           7           5      2000         2000   \n",
       "17          20   21000           6           5      1953         1953   \n",
       "18          20   11616           5           5      1962         1962   \n",
       "19          80   21453           6           5      1969         1969   \n",
       "20         120    4928           6           5      1976         1976   \n",
       "21          60   12224           6           5      2000         2000   \n",
       "22          20    6853           8           5      2001         2002   \n",
       "23          20   10355           5           5      1967         1967   \n",
       "24          60    9505           7           5      2001         2001   \n",
       "25          50    6240           5           4      1936         1950   \n",
       "26          60   14803           6           5      1971         1971   \n",
       "27          20   13500           6           7      1960         1975   \n",
       "28          20   11120           6           6      1984         1984   \n",
       "29          20   10708           5           5      1955         1993   \n",
       "..         ...     ...         ...         ...       ...          ...   \n",
       "456         60   12585           8           5      1993         1993   \n",
       "457         60    9019           6           5      1994         1994   \n",
       "458         20    9240           5           6      1962         2002   \n",
       "459         20    9308           5           5      1965         1965   \n",
       "460         20    8638           5           6      1963         1963   \n",
       "461         20   13052           5           6      1965         1965   \n",
       "462         20    8020           5           6      1964         1964   \n",
       "463         20    8789           5           6      1967         1967   \n",
       "464        160    2998           6           5      2000         2000   \n",
       "465        160    4447           7           5      2003         2003   \n",
       "466         20    9759           5           5      1966         1966   \n",
       "467         20   10368           6           6      1964         1964   \n",
       "468         90    8917           5           5      1967         1967   \n",
       "469         80   12700           6           5      1964         1964   \n",
       "470         20    9610           6           6      1958         1958   \n",
       "471         60   18275           7           8      1962         1998   \n",
       "472         20   11327           5           6      1967         1967   \n",
       "473         20    9535           5           5      1967         1967   \n",
       "474         80    7176           6           6      1978         1978   \n",
       "475         90    9662           5           4      1977         1977   \n",
       "476         30   17529           5           5      1924         1950   \n",
       "477         20   20355           7           6      1967         1967   \n",
       "478        150    1700           7           5      1980         1981   \n",
       "479         20    8685           7           5      1998         1998   \n",
       "480         60    9930           7           5      2002         2002   \n",
       "481         20   11088           8           5      2002         2002   \n",
       "482         60   21533           7           5      1996         1997   \n",
       "483         20   50102           6           5      1958         1958   \n",
       "484         20    8098           6           5      2000         2000   \n",
       "485         90   11836           5           5      1970         1970   \n",
       "\n",
       "     MasVnrArea  BsmtFinSF1  BsmtFinSF2  BsmtUnfSF     ...      New  Oth   WD  \\\n",
       "0         240.0       859.0        32.0      216.0     ...      0.0  0.0  1.0   \n",
       "1           0.0       737.0         0.0      175.0     ...      0.0  0.0  1.0   \n",
       "2         212.0       733.0         0.0      520.0     ...      0.0  0.0  1.0   \n",
       "3         180.0       578.0         0.0      426.0     ...      0.0  0.0  1.0   \n",
       "4           0.0       188.0       668.0      204.0     ...      0.0  0.0  1.0   \n",
       "5           0.0         0.0         0.0     1228.0     ...      0.0  0.0  1.0   \n",
       "6           0.0       747.0        93.0        0.0     ...      0.0  0.0  1.0   \n",
       "7           0.0       280.0       491.0      167.0     ...      0.0  0.0  1.0   \n",
       "8           0.0       182.0         0.0      612.0     ...      0.0  0.0  1.0   \n",
       "9         573.0       739.0         0.0      318.0     ...      0.0  0.0  1.0   \n",
       "10        287.0       912.0         0.0     1035.0     ...      0.0  0.0  1.0   \n",
       "11          0.0       228.0         0.0      724.0     ...      0.0  0.0  1.0   \n",
       "12         22.0         0.0         0.0      384.0     ...      0.0  0.0  1.0   \n",
       "13         68.0       310.0         0.0      370.0     ...      0.0  0.0  1.0   \n",
       "14         28.0      1200.0         0.0      410.0     ...      0.0  0.0  1.0   \n",
       "15        600.0       224.0         0.0      816.0     ...      0.0  0.0  1.0   \n",
       "16          0.0       250.0         0.0      134.0     ...      0.0  0.0  1.0   \n",
       "17        184.0        35.0       869.0      905.0     ...      0.0  0.0  0.0   \n",
       "18        116.0       170.0       670.0      252.0     ...      0.0  0.0  1.0   \n",
       "19          0.0       938.0         0.0        0.0     ...      0.0  0.0  1.0   \n",
       "20          0.0       120.0         0.0      958.0     ...      0.0  0.0  1.0   \n",
       "21         40.0       695.0         0.0      297.0     ...      0.0  0.0  1.0   \n",
       "22        136.0      1005.0         0.0      262.0     ...      0.0  0.0  1.0   \n",
       "23        196.0       695.0         0.0      519.0     ...      0.0  0.0  1.0   \n",
       "24        180.0         0.0         0.0      884.0     ...      0.0  0.0  1.0   \n",
       "25          0.0         0.0         0.0      896.0     ...      0.0  0.0  1.0   \n",
       "26        252.0       416.0         0.0      409.0     ...      0.0  0.0  1.0   \n",
       "27          0.0       429.0      1080.0       93.0     ...      0.0  0.0  1.0   \n",
       "28          0.0       660.0         0.0      572.0     ...      0.0  0.0  1.0   \n",
       "29          0.0       379.0       768.0      470.0     ...      0.0  0.0  0.0   \n",
       "..          ...         ...         ...        ...     ...      ...  ...  ...   \n",
       "456       420.0       247.0      1039.0        0.0     ...      0.0  0.0  1.0   \n",
       "457         0.0       274.0         0.0      362.0     ...      0.0  0.0  1.0   \n",
       "458         0.0       612.0         0.0      252.0     ...      0.0  0.0  1.0   \n",
       "459         0.0       554.0         0.0      430.0     ...      0.0  0.0  1.0   \n",
       "460         0.0       181.0         0.0      744.0     ...      0.0  0.0  1.0   \n",
       "461         0.0       712.0         0.0      312.0     ...      0.0  0.0  1.0   \n",
       "462         0.0       644.0         0.0      268.0     ...      0.0  0.0  1.0   \n",
       "463         0.0       659.0         0.0      253.0     ...      0.0  0.0  1.0   \n",
       "464       513.0       353.0         0.0      403.0     ...      0.0  0.0  1.0   \n",
       "465         0.0         0.0         0.0      530.0     ...      0.0  0.0  1.0   \n",
       "466         0.0       799.0         0.0      252.0     ...      0.0  0.0  1.0   \n",
       "467       112.0       260.0       748.0        0.0     ...      0.0  0.0  1.0   \n",
       "468         0.0         0.0         0.0     1584.0     ...      0.0  0.0  1.0   \n",
       "469         0.0       939.0         0.0      307.0     ...      0.0  0.0  1.0   \n",
       "470       632.0       203.0         0.0      918.0     ...      0.0  0.0  1.0   \n",
       "471         0.0       636.0         0.0      802.0     ...      0.0  0.0  1.0   \n",
       "472       305.0       779.0         0.0      285.0     ...      0.0  0.0  1.0   \n",
       "473       450.0       194.0       982.0        0.0     ...      0.0  0.0  1.0   \n",
       "474       200.0       794.0         0.0      166.0     ...      0.0  0.0  1.0   \n",
       "475         0.0         0.0         0.0     1967.0     ...      0.0  0.0  1.0   \n",
       "476        65.0         0.0         0.0      872.0     ...      0.0  0.0  1.0   \n",
       "477       123.0       810.0       826.0      229.0     ...      0.0  0.0  1.0   \n",
       "478         0.0       397.0         0.0       33.0     ...      0.0  0.0  1.0   \n",
       "479         0.0       846.0         0.0      579.0     ...      0.0  0.0  1.0   \n",
       "480       199.0       456.0         0.0      370.0     ...      0.0  0.0  1.0   \n",
       "481         0.0       872.0         0.0      476.0     ...      0.0  0.0  1.0   \n",
       "482         0.0         0.0         0.0     1065.0     ...      0.0  0.0  1.0   \n",
       "483         0.0       909.0         0.0      723.0     ...      0.0  0.0  1.0   \n",
       "484         0.0      1136.0       116.0      129.0     ...      0.0  0.0  1.0   \n",
       "485         0.0       149.0         0.0     1503.0     ...      0.0  0.0  1.0   \n",
       "\n",
       "    Abnorml AdjLand  Alloca  Family Normal Partial LotFrontage  \n",
       "0       0.0     0.0     0.0     0.0    1.0     0.0         NaN  \n",
       "1       0.0     0.0     0.0     0.0    1.0     0.0         NaN  \n",
       "2       0.0     0.0     0.0     0.0    1.0     0.0         NaN  \n",
       "3       0.0     0.0     0.0     0.0    1.0     0.0         NaN  \n",
       "4       0.0     0.0     0.0     0.0    1.0     0.0         NaN  \n",
       "5       0.0     0.0     0.0     0.0    1.0     0.0         NaN  \n",
       "6       0.0     0.0     0.0     0.0    1.0     0.0         NaN  \n",
       "7       0.0     0.0     0.0     0.0    1.0     0.0         NaN  \n",
       "8       0.0     0.0     0.0     0.0    1.0     0.0         NaN  \n",
       "9       0.0     0.0     0.0     0.0    1.0     0.0         NaN  \n",
       "10      0.0     0.0     0.0     0.0    1.0     0.0         NaN  \n",
       "11      0.0     0.0     0.0     0.0    1.0     0.0         NaN  \n",
       "12      0.0     0.0     0.0     0.0    1.0     0.0         NaN  \n",
       "13      0.0     0.0     0.0     0.0    1.0     0.0         NaN  \n",
       "14      0.0     0.0     0.0     0.0    1.0     0.0         NaN  \n",
       "15      0.0     0.0     0.0     0.0    1.0     0.0         NaN  \n",
       "16      0.0     0.0     0.0     0.0    1.0     0.0         NaN  \n",
       "17      1.0     0.0     0.0     0.0    0.0     0.0         NaN  \n",
       "18      0.0     0.0     0.0     0.0    1.0     0.0         NaN  \n",
       "19      0.0     0.0     0.0     0.0    1.0     0.0         NaN  \n",
       "20      0.0     0.0     0.0     0.0    1.0     0.0         NaN  \n",
       "21      0.0     0.0     0.0     0.0    1.0     0.0         NaN  \n",
       "22      0.0     0.0     0.0     0.0    1.0     0.0         NaN  \n",
       "23      0.0     0.0     0.0     0.0    1.0     0.0         NaN  \n",
       "24      0.0     0.0     0.0     0.0    1.0     0.0         NaN  \n",
       "25      0.0     0.0     0.0     0.0    1.0     0.0         NaN  \n",
       "26      0.0     0.0     0.0     0.0    1.0     0.0         NaN  \n",
       "27      0.0     0.0     0.0     0.0    1.0     0.0         NaN  \n",
       "28      0.0     0.0     0.0     0.0    1.0     0.0         NaN  \n",
       "29      0.0     0.0     0.0     0.0    1.0     0.0         NaN  \n",
       "..      ...     ...     ...     ...    ...     ...         ...  \n",
       "456     0.0     0.0     0.0     0.0    1.0     0.0         NaN  \n",
       "457     0.0     0.0     0.0     0.0    1.0     0.0         NaN  \n",
       "458     0.0     0.0     0.0     0.0    1.0     0.0         NaN  \n",
       "459     0.0     0.0     0.0     0.0    1.0     0.0         NaN  \n",
       "460     0.0     0.0     0.0     0.0    1.0     0.0         NaN  \n",
       "461     0.0     0.0     0.0     0.0    1.0     0.0         NaN  \n",
       "462     0.0     0.0     0.0     0.0    1.0     0.0         NaN  \n",
       "463     0.0     0.0     0.0     0.0    1.0     0.0         NaN  \n",
       "464     0.0     0.0     0.0     0.0    1.0     0.0         NaN  \n",
       "465     0.0     0.0     0.0     0.0    1.0     0.0         NaN  \n",
       "466     0.0     0.0     0.0     0.0    1.0     0.0         NaN  \n",
       "467     0.0     0.0     0.0     0.0    1.0     0.0         NaN  \n",
       "468     0.0     0.0     0.0     0.0    1.0     0.0         NaN  \n",
       "469     0.0     0.0     0.0     0.0    1.0     0.0         NaN  \n",
       "470     0.0     0.0     0.0     0.0    1.0     0.0         NaN  \n",
       "471     0.0     0.0     0.0     0.0    1.0     0.0         NaN  \n",
       "472     0.0     0.0     0.0     0.0    1.0     0.0         NaN  \n",
       "473     0.0     0.0     0.0     0.0    1.0     0.0         NaN  \n",
       "474     0.0     0.0     0.0     0.0    1.0     0.0         NaN  \n",
       "475     0.0     0.0     0.0     0.0    1.0     0.0         NaN  \n",
       "476     0.0     0.0     0.0     0.0    1.0     0.0         NaN  \n",
       "477     0.0     0.0     0.0     0.0    1.0     0.0         NaN  \n",
       "478     0.0     0.0     0.0     0.0    1.0     0.0         NaN  \n",
       "479     0.0     0.0     0.0     0.0    1.0     0.0         NaN  \n",
       "480     0.0     0.0     0.0     0.0    1.0     0.0         NaN  \n",
       "481     0.0     0.0     0.0     0.0    1.0     0.0         NaN  \n",
       "482     0.0     0.0     0.0     0.0    1.0     0.0         NaN  \n",
       "483     0.0     0.0     1.0     0.0    0.0     0.0         NaN  \n",
       "484     0.0     0.0     0.0     0.0    1.0     0.0         NaN  \n",
       "485     0.0     0.0     0.0     0.0    1.0     0.0         NaN  \n",
       "\n",
       "[486 rows x 270 columns]"
      ]
     },
     "execution_count": 34,
     "metadata": {},
     "output_type": "execute_result"
    }
   ],
   "source": [
    "data_regressor_train = data_regressor.dropna(axis = 0)\n",
    "data_regressor_test = data_regressor[data_regressor.isnull().any(axis=1)]\n",
    "data_regressor_train.reset_index(drop=True)\n",
    "data_regressor_test.reset_index(drop=True)"
   ]
  },
  {
   "cell_type": "code",
   "execution_count": 35,
   "metadata": {},
   "outputs": [],
   "source": [
    "data_regressor_train_x = data_regressor_train.iloc[:, :-1].values\n",
    "#data_regressor_train_x = pd.DataFrame(data_regressor_train_x, columns = data_regressor_train.columns[0:269])\n",
    "data_regressor_train_y = data_regressor_train.iloc[:, 269].values\n",
    "#data_regressor_train_y = pd.DataFrame(data_regressor_train_y, columns = data_regressor_train.columns[269:270])"
   ]
  },
  {
   "cell_type": "code",
   "execution_count": 36,
   "metadata": {},
   "outputs": [
    {
     "data": {
      "text/plain": [
       "(2433, 270)"
      ]
     },
     "execution_count": 36,
     "metadata": {},
     "output_type": "execute_result"
    }
   ],
   "source": [
    "data_regressor_train.shape"
   ]
  },
  {
   "cell_type": "code",
   "execution_count": 37,
   "metadata": {},
   "outputs": [
    {
     "data": {
      "text/plain": [
       "(2433, 269)"
      ]
     },
     "execution_count": 37,
     "metadata": {},
     "output_type": "execute_result"
    }
   ],
   "source": [
    "data_regressor_train_x.shape"
   ]
  },
  {
   "cell_type": "code",
   "execution_count": 38,
   "metadata": {},
   "outputs": [
    {
     "data": {
      "text/plain": [
       "(2433,)"
      ]
     },
     "execution_count": 38,
     "metadata": {},
     "output_type": "execute_result"
    }
   ],
   "source": [
    "data_regressor_train_y.shape"
   ]
  },
  {
   "cell_type": "markdown",
   "metadata": {},
   "source": [
    "# Predicting the missing values in the column"
   ]
  },
  {
   "cell_type": "markdown",
   "metadata": {},
   "source": [
    "Predicting the missing values in the dataset with respect to the values present in the current dataset"
   ]
  },
  {
   "cell_type": "code",
   "execution_count": 39,
   "metadata": {},
   "outputs": [],
   "source": [
    "from sklearn.ensemble import RandomForestRegressor,BaggingRegressor,GradientBoostingRegressor,AdaBoostRegressor\n",
    "from sklearn.svm import SVR\n",
    "from sklearn.neighbors import KNeighborsRegressor\n",
    "from xgboost import XGBRegressor"
   ]
  },
  {
   "cell_type": "code",
   "execution_count": 40,
   "metadata": {},
   "outputs": [],
   "source": [
    "from sklearn.model_selection import cross_val_score"
   ]
  },
  {
   "cell_type": "code",
   "execution_count": 35,
   "metadata": {},
   "outputs": [
    {
     "name": "stdout",
     "output_type": "stream",
     "text": [
      "246.133084797\n"
     ]
    }
   ],
   "source": [
    "RandomForestRegressor = RandomForestRegressor()\n",
    "score_RandomForestRegressor = cross_val_score(RandomForestRegressor, data_regressor_train_x, data_regressor_train_y, cv=5, scoring= 'neg_mean_squared_error')\n",
    "RandomForestRegression = -score_RandomForestRegressor.mean()\n",
    "print(RandomForestRegression)"
   ]
  },
  {
   "cell_type": "code",
   "execution_count": 36,
   "metadata": {},
   "outputs": [
    {
     "name": "stdout",
     "output_type": "stream",
     "text": [
      "229.351517935\n"
     ]
    }
   ],
   "source": [
    "BaggingRegressor = BaggingRegressor()\n",
    "score_BaggingRegressor = cross_val_score(BaggingRegressor, data_regressor_train_x, data_regressor_train_y, cv=5, scoring= 'neg_mean_squared_error')\n",
    "BaggingRegression = -score_BaggingRegressor.mean()\n",
    "print(BaggingRegression)"
   ]
  },
  {
   "cell_type": "code",
   "execution_count": 132,
   "metadata": {},
   "outputs": [
    {
     "name": "stdout",
     "output_type": "stream",
     "text": [
      "373.56603489\n"
     ]
    }
   ],
   "source": [
    "AdaBoostRegressor = AdaBoostRegressor()\n",
    "score_AdaBoostRegressor = cross_val_score(AdaBoostRegressor, data_regressor_train_x, data_regressor_train_y, cv=5, scoring= 'neg_mean_squared_error')\n",
    "AdaBoostRegression = -score_AdaBoostRegressor.mean()\n",
    "print(AdaBoostRegression)"
   ]
  },
  {
   "cell_type": "code",
   "execution_count": 133,
   "metadata": {},
   "outputs": [
    {
     "name": "stdout",
     "output_type": "stream",
     "text": [
      "545.935649457\n"
     ]
    }
   ],
   "source": [
    "SVR = SVR()\n",
    "score_SVR = cross_val_score(SVR, data_regressor_train_x, data_regressor_train_y, cv=5, scoring= 'neg_mean_squared_error')\n",
    "SVRegression = -score_SVR.mean()\n",
    "print(SVRegression)"
   ]
  },
  {
   "cell_type": "code",
   "execution_count": 136,
   "metadata": {},
   "outputs": [
    {
     "name": "stdout",
     "output_type": "stream",
     "text": [
      "322.264300014\n"
     ]
    }
   ],
   "source": [
    "KNeighborsRegressor = KNeighborsRegressor()\n",
    "score_KNeighborsRegressor = cross_val_score(KNeighborsRegressor, data_regressor_train_x, data_regressor_train_y, cv=5, scoring= 'neg_mean_squared_error')\n",
    "KNeighborsRegression = -score_KNeighborsRegressor.mean()\n",
    "print(KNeighborsRegression)"
   ]
  },
  {
   "cell_type": "code",
   "execution_count": 35,
   "metadata": {
    "collapsed": true
   },
   "outputs": [],
   "source": [
    "data_regressor_train_x_xgb = data_regressor_train.iloc[:, :-1].values\n",
    "data_regressor_train_y_xgb = data_regressor_train.iloc[:, 269].values"
   ]
  },
  {
   "cell_type": "code",
   "execution_count": 150,
   "metadata": {},
   "outputs": [
    {
     "name": "stdout",
     "output_type": "stream",
     "text": [
      "247.142887504\n"
     ]
    }
   ],
   "source": [
    "XGBRegressor = XGBRegressor()\n",
    "score_XGBRegressor = cross_val_score(XGBRegressor, data_regressor_train_x_xgb, data_regressor_train_y_xgb, cv=5, scoring= 'neg_mean_squared_error')\n",
    "XGBRegression = -score_XGBRegressor.mean()\n",
    "print(XGBRegression)"
   ]
  },
  {
   "cell_type": "code",
   "execution_count": 41,
   "metadata": {},
   "outputs": [
    {
     "name": "stderr",
     "output_type": "stream",
     "text": [
      "C:\\Users\\user\\Anaconda3\\lib\\site-packages\\sklearn\\cross_validation.py:41: DeprecationWarning: This module was deprecated in version 0.18 in favor of the model_selection module into which all the refactored classes and functions are moved. Also note that the interface of the new CV iterators are different from that of this module. This module will be removed in 0.20.\n",
      "  \"This module will be removed in 0.20.\", DeprecationWarning)\n"
     ]
    }
   ],
   "source": [
    "from sklearn.cross_validation import train_test_split\n",
    "data_regressor_train_x_cv, data_regressor_test_x_cv, data_regressor_train_y_cv, data_regressor_test_y_cv = train_test_split(data_regressor_train_x, data_regressor_train_y, test_size=.1, random_state=0)"
   ]
  },
  {
   "cell_type": "code",
   "execution_count": 42,
   "metadata": {},
   "outputs": [
    {
     "data": {
      "text/plain": [
       "(2433,)"
      ]
     },
     "execution_count": 42,
     "metadata": {},
     "output_type": "execute_result"
    }
   ],
   "source": [
    "data_regressor_train_y.shape"
   ]
  },
  {
   "cell_type": "code",
   "execution_count": 43,
   "metadata": {},
   "outputs": [
    {
     "name": "stdout",
     "output_type": "stream",
     "text": [
      "(2189, 269)\n",
      "(244, 269)\n",
      "(2189,)\n",
      "(244,)\n"
     ]
    }
   ],
   "source": [
    "print(data_regressor_train_x_cv.shape)\n",
    "print(data_regressor_test_x_cv.shape)\n",
    "print(data_regressor_train_y_cv.shape)\n",
    "print(data_regressor_test_y_cv.shape)"
   ]
  },
  {
   "cell_type": "code",
   "execution_count": 34,
   "metadata": {},
   "outputs": [],
   "source": [
    "BaggingRegressor1 = BaggingRegressor()"
   ]
  },
  {
   "cell_type": "code",
   "execution_count": 35,
   "metadata": {},
   "outputs": [
    {
     "data": {
      "text/plain": [
       "BaggingRegressor(base_estimator=None, bootstrap=True,\n",
       "         bootstrap_features=False, max_features=1.0, max_samples=1.0,\n",
       "         n_estimators=10, n_jobs=1, oob_score=False, random_state=None,\n",
       "         verbose=0, warm_start=False)"
      ]
     },
     "execution_count": 35,
     "metadata": {},
     "output_type": "execute_result"
    }
   ],
   "source": [
    "BaggingRegressor1.fit(data_regressor_train_x_cv, data_regressor_train_y_cv)"
   ]
  },
  {
   "cell_type": "code",
   "execution_count": 51,
   "metadata": {},
   "outputs": [
    {
     "name": "stdout",
     "output_type": "stream",
     "text": [
      "35.8247944613\n",
      "177.271721311\n"
     ]
    }
   ],
   "source": [
    "y_train_pred = BaggingRegressor1.predict(data_regressor_train_x_cv)\n",
    "y_test_pred = BaggingRegressor1.predict(data_regressor_test_x_cv)\n",
    "\n",
    "train_error = mean_squared_error(y_train_pred, data_regressor_train_y_cv)\n",
    "test_error = mean_squared_error(y_test_pred, data_regressor_test_y_cv)\n",
    "\n",
    "print(train_error)\n",
    "print(test_error)"
   ]
  },
  {
   "cell_type": "code",
   "execution_count": 44,
   "metadata": {
    "collapsed": true
   },
   "outputs": [],
   "source": [
    "from sklearn.metrics import mean_squared_error"
   ]
  },
  {
   "cell_type": "code",
   "execution_count": 106,
   "metadata": {
    "collapsed": true
   },
   "outputs": [],
   "source": [
    "max_features = [10, 20, 30, 50, 75, 100, 125, 150, 175, 200]\n",
    "train_results = []\n",
    "test_results = []"
   ]
  },
  {
   "cell_type": "code",
   "execution_count": 107,
   "metadata": {
    "collapsed": true
   },
   "outputs": [],
   "source": [
    "for features in max_features:\n",
    "    model = BaggingRegressor(max_features = features)\n",
    "    model.fit(data_regressor_train_x_cv, data_regressor_train_y_cv)\n",
    "    train_pred = model.predict(data_regressor_train_x_cv)\n",
    "    mse_train = mean_squared_error(train_pred, data_regressor_train_y_cv)\n",
    "    train_results.append(mse_train)\n",
    "    test_pred = model.predict(data_regressor_test_x_cv)\n",
    "    mse_test = mean_squared_error(test_pred, data_regressor_test_y_cv)\n",
    "    test_results.append(mse_test)"
   ]
  },
  {
   "cell_type": "code",
   "execution_count": 108,
   "metadata": {},
   "outputs": [
    {
     "data": {
      "image/png": "[encoded data removed]",
      "text/plain": [
       "<matplotlib.figure.Figure at 0x5d6fcdfbe0>"
      ]
     },
     "metadata": {},
     "output_type": "display_data"
    }
   ],
   "source": [
    "line1 = plt.plot(max_features, train_results, 'b', label='Train error')\n",
    "line2 = plt.plot(max_features, test_results, 'r' , label='Test error')\n",
    "plt.ylabel('Mean squared error')\n",
    "plt.xlabel('Max features')\n",
    "plt.legend()\n",
    "plt.show()"
   ]
  },
  {
   "cell_type": "code",
   "execution_count": 37,
   "metadata": {
    "collapsed": true
   },
   "outputs": [],
   "source": [
    "max_features = [10, 20, 30, 50, 75, 100, 125, 150, 175, 200]\n",
    "train_results = []\n",
    "test_results = []"
   ]
  },
  {
   "cell_type": "code",
   "execution_count": 38,
   "metadata": {
    "collapsed": true
   },
   "outputs": [],
   "source": [
    "for features in max_features:\n",
    "    model = BaggingRegressor(max_features = features)\n",
    "    model.fit(data_regressor_train_x_cv, data_regressor_train_y_cv)\n",
    "    train_pred = model.predict(data_regressor_train_x_cv)\n",
    "    mse_train = mean_squared_error(train_pred, data_regressor_train_y_cv)\n",
    "    train_results.append(mse_train)\n",
    "    test_pred = model.predict(data_regressor_test_x_cv)\n",
    "    mse_test = mean_squared_error(test_pred, data_regressor_test_y_cv)\n",
    "    test_results.append(mse_test)"
   ]
  },
  {
   "cell_type": "code",
   "execution_count": 39,
   "metadata": {},
   "outputs": [
    {
     "data": {
      "image/png": "[encoded data removed]",
      "text/plain": [
       "<matplotlib.figure.Figure at 0x251f7926d8>"
      ]
     },
     "metadata": {},
     "output_type": "display_data"
    }
   ],
   "source": [
    "line1 = plt.plot(max_features, train_results, 'b', label='Train error')\n",
    "line2 = plt.plot(max_features, test_results, 'r' , label='Test error')\n",
    "plt.ylabel('Mean squared error')\n",
    "plt.xlabel('Max features')\n",
    "plt.legend()\n",
    "plt.show()"
   ]
  },
  {
   "cell_type": "markdown",
   "metadata": {},
   "source": [
    " 50, 75, 125, 150, 175, 200"
   ]
  },
  {
   "cell_type": "code",
   "execution_count": 110,
   "metadata": {
    "collapsed": true
   },
   "outputs": [],
   "source": [
    "max_samples = [100,200,300,400,500,600,700,800,900,1000,1100,1200,1300,1400,1500,1600,1700,1800]\n",
    "train_results = []\n",
    "test_results = []"
   ]
  },
  {
   "cell_type": "code",
   "execution_count": 111,
   "metadata": {
    "collapsed": true
   },
   "outputs": [],
   "source": [
    "for samples in max_samples:\n",
    "    model = BaggingRegressor(max_samples = samples)\n",
    "    model.fit(data_regressor_train_x_cv, data_regressor_train_y_cv)\n",
    "    train_pred = model.predict(data_regressor_train_x_cv)\n",
    "    mse_train = mean_squared_error(train_pred, data_regressor_train_y_cv)\n",
    "    train_results.append(mse_train)\n",
    "    test_pred = model.predict(data_regressor_test_x_cv)\n",
    "    mse_test = mean_squared_error(test_pred, data_regressor_test_y_cv)\n",
    "    test_results.append(mse_test)"
   ]
  },
  {
   "cell_type": "code",
   "execution_count": 112,
   "metadata": {},
   "outputs": [
    {
     "data": {
      "image/png": "[encoded data removed]",
      "text/plain": [
       "<matplotlib.figure.Figure at 0x5d6fcc4550>"
      ]
     },
     "metadata": {},
     "output_type": "display_data"
    }
   ],
   "source": [
    "line1 = plt.plot(max_samples, train_results, 'b', label='Train error')\n",
    "line2 = plt.plot(max_samples, test_results, 'r' , label='Test error')\n",
    "plt.ylabel('Mean squared error')\n",
    "plt.xlabel('Max samples')\n",
    "plt.legend()\n",
    "plt.show()"
   ]
  },
  {
   "cell_type": "code",
   "execution_count": null,
   "metadata": {
    "collapsed": true
   },
   "outputs": [],
   "source": [
    "300,500,900,1400,1700"
   ]
  },
  {
   "cell_type": "code",
   "execution_count": 113,
   "metadata": {
    "collapsed": true
   },
   "outputs": [],
   "source": [
    "max_samples = [100,200,300,400,500,600,700,800,900,1000,1100,1200,1300,1400,1500,1600,1700,1800]\n",
    "train_results = []\n",
    "test_results = []"
   ]
  },
  {
   "cell_type": "code",
   "execution_count": 114,
   "metadata": {
    "collapsed": true
   },
   "outputs": [],
   "source": [
    "for samples in max_samples:\n",
    "    model = BaggingRegressor(max_samples = samples)\n",
    "    model.fit(data_regressor_train_x_cv, data_regressor_train_y_cv)\n",
    "    train_pred = model.predict(data_regressor_train_x_cv)\n",
    "    mse_train = mean_squared_error(train_pred, data_regressor_train_y_cv)\n",
    "    train_results.append(mse_train)\n",
    "    test_pred = model.predict(data_regressor_test_x_cv)\n",
    "    mse_test = mean_squared_error(test_pred, data_regressor_test_y_cv)\n",
    "    test_results.append(mse_test)"
   ]
  },
  {
   "cell_type": "code",
   "execution_count": 115,
   "metadata": {},
   "outputs": [
    {
     "data": {
      "image/png": "[encoded data removed]",
      "text/plain": [
       "<matplotlib.figure.Figure at 0x5d6eacc198>"
      ]
     },
     "metadata": {},
     "output_type": "display_data"
    }
   ],
   "source": [
    "line1 = plt.plot(max_samples, train_results, 'b', label='Train error')\n",
    "line2 = plt.plot(max_samples, test_results, 'r' , label='Test error')\n",
    "plt.ylabel('Mean squared error')\n",
    "plt.xlabel('Max samples')\n",
    "plt.legend()\n",
    "plt.show()"
   ]
  },
  {
   "cell_type": "code",
   "execution_count": 119,
   "metadata": {},
   "outputs": [],
   "source": [
    "n_estimators = [10, 20, 30, 50, 100, 150, 200, 300, 400, 500]\n",
    "train_results = []\n",
    "test_results = []"
   ]
  },
  {
   "cell_type": "code",
   "execution_count": 120,
   "metadata": {
    "collapsed": true
   },
   "outputs": [],
   "source": [
    "for estimators in n_estimators:\n",
    "    model = BaggingRegressor(n_estimators = estimators)\n",
    "    model.fit(data_regressor_train_x_cv, data_regressor_train_y_cv)\n",
    "    train_pred = model.predict(data_regressor_train_x_cv)\n",
    "    mse_train = mean_squared_error(train_pred, data_regressor_train_y_cv)\n",
    "    train_results.append(mse_train)\n",
    "    test_pred = model.predict(data_regressor_test_x_cv)\n",
    "    mse_test = mean_squared_error(test_pred, data_regressor_test_y_cv)\n",
    "    test_results.append(mse_test)"
   ]
  },
  {
   "cell_type": "code",
   "execution_count": 121,
   "metadata": {},
   "outputs": [
    {
     "data": {
      "image/png": "[encoded data removed]",
      "text/plain": [
       "<matplotlib.figure.Figure at 0x5d6fd656a0>"
      ]
     },
     "metadata": {},
     "output_type": "display_data"
    }
   ],
   "source": [
    "line1 = plt.plot(n_estimators, train_results, 'b', label='Train error')\n",
    "line2 = plt.plot(n_estimators, test_results, 'r' , label='Test error')\n",
    "plt.ylabel('Mean squared error')\n",
    "plt.xlabel('n estimators')\n",
    "plt.legend()\n",
    "plt.show()"
   ]
  },
  {
   "cell_type": "code",
   "execution_count": null,
   "metadata": {
    "collapsed": true
   },
   "outputs": [],
   "source": [
    "n_estimators = [10, 20, 30, 50, 100, 150, 200, 300, 400, 500]\n",
    "train_results = []\n",
    "test_results = []"
   ]
  },
  {
   "cell_type": "code",
   "execution_count": 41,
   "metadata": {
    "collapsed": true
   },
   "outputs": [],
   "source": [
    "for estimators in n_estimators:\n",
    "    model = BaggingRegressor(n_estimators = estimators)\n",
    "    model.fit(data_regressor_train_x_cv, data_regressor_train_y_cv)\n",
    "    train_pred = model.predict(data_regressor_train_x_cv)\n",
    "    mse_train = mean_squared_error(train_pred, data_regressor_train_y_cv)\n",
    "    train_results.append(mse_train)\n",
    "    test_pred = model.predict(data_regressor_test_x_cv)\n",
    "    mse_test = mean_squared_error(test_pred, data_regressor_test_y_cv)\n",
    "    test_results.append(mse_test)"
   ]
  },
  {
   "cell_type": "code",
   "execution_count": 42,
   "metadata": {},
   "outputs": [
    {
     "data": {
      "image/png": "[encoded data removed]",
      "text/plain": [
       "<matplotlib.figure.Figure at 0x251f792080>"
      ]
     },
     "metadata": {},
     "output_type": "display_data"
    }
   ],
   "source": [
    "line1 = plt.plot(n_estimators, train_results, 'b', label='Train error')\n",
    "line2 = plt.plot(n_estimators, test_results, 'r' , label='Test error')\n",
    "plt.ylabel('Mean squared error')\n",
    "plt.xlabel('n estimators')\n",
    "plt.legend()\n",
    "plt.show()"
   ]
  },
  {
   "cell_type": "code",
   "execution_count": 35,
   "metadata": {},
   "outputs": [],
   "source": [
    "Params_regressor = {\n",
    "                    \"bootstrap\" : [True, False],\n",
    "                    \"bootstrap_features\" : [True, False], \n",
    "                    \"max_features\" : [50, 75, 125, 150, 175, 200],\n",
    "                    \"max_samples\" : [300,500,900,1400,1700],\n",
    "                    \"n_estimators\" : [100, 150, 200, 300]\n",
    "                    }"
   ]
  },
  {
   "cell_type": "code",
   "execution_count": 36,
   "metadata": {},
   "outputs": [],
   "source": [
    "BaggingRegressor_cv = BaggingRegressor()"
   ]
  },
  {
   "cell_type": "code",
   "execution_count": 37,
   "metadata": {
    "collapsed": true
   },
   "outputs": [],
   "source": [
    "from sklearn.model_selection import RandomizedSearchCV"
   ]
  },
  {
   "cell_type": "code",
   "execution_count": 38,
   "metadata": {},
   "outputs": [],
   "source": [
    "RandomizedSearch_BaggingRegressor = RandomizedSearchCV(estimator = BaggingRegressor_cv, param_distributions = Params_regressor, n_iter=100, scoring='neg_mean_squared_error', cv=10)"
   ]
  },
  {
   "cell_type": "code",
   "execution_count": 40,
   "metadata": {},
   "outputs": [
    {
     "data": {
      "text/plain": [
       "RandomizedSearchCV(cv=10, error_score='raise',\n",
       "          estimator=BaggingRegressor(base_estimator=None, bootstrap=True,\n",
       "         bootstrap_features=False, max_features=1.0, max_samples=1.0,\n",
       "         n_estimators=10, n_jobs=1, oob_score=False, random_state=None,\n",
       "         verbose=0, warm_start=False),\n",
       "          fit_params=None, iid=True, n_iter=100, n_jobs=1,\n",
       "          param_distributions={'bootstrap_features': [True, False], 'max_features': [50, 75, 125, 150, 175, 200], 'max_samples': [300, 500, 900, 1400, 1700], 'n_estimators': [100, 150, 200, 300], 'bootstrap': [True, False]},\n",
       "          pre_dispatch='2*n_jobs', random_state=None, refit=True,\n",
       "          return_train_score=True, scoring='neg_mean_squared_error',\n",
       "          verbose=0)"
      ]
     },
     "execution_count": 40,
     "metadata": {},
     "output_type": "execute_result"
    }
   ],
   "source": [
    "RandomizedSearch_BaggingRegressor.fit(data_regressor_train_x, data_regressor_train_y)"
   ]
  },
  {
   "cell_type": "code",
   "execution_count": 41,
   "metadata": {},
   "outputs": [
    {
     "data": {
      "text/plain": [
       "BaggingRegressor(base_estimator=None, bootstrap=True,\n",
       "         bootstrap_features=False, max_features=200, max_samples=1400,\n",
       "         n_estimators=300, n_jobs=1, oob_score=False, random_state=None,\n",
       "         verbose=0, warm_start=False)"
      ]
     },
     "execution_count": 41,
     "metadata": {},
     "output_type": "execute_result"
    }
   ],
   "source": [
    "RandomizedSearch_BaggingRegressor.best_estimator_"
   ]
  },
  {
   "cell_type": "code",
   "execution_count": 62,
   "metadata": {},
   "outputs": [
    {
     "data": {
      "text/plain": [
       "BaggingRegressor(base_estimator=None, bootstrap=False,\n",
       "         bootstrap_features=False, max_features=150, max_samples=1200,\n",
       "         n_estimators=200, n_jobs=1, oob_score=False, random_state=None,\n",
       "         verbose=0, warm_start=False)"
      ]
     },
     "execution_count": 62,
     "metadata": {},
     "output_type": "execute_result"
    }
   ],
   "source": [
    "RandomizedSearch_BaggingRegressor.best_estimator_"
   ]
  },
  {
   "cell_type": "code",
   "execution_count": 36,
   "metadata": {},
   "outputs": [],
   "source": [
    "best_bagging = BaggingRegressor(base_estimator=None, bootstrap=False,\n",
    "         bootstrap_features=False, max_features=150, max_samples=1200,\n",
    "         n_estimators=200, n_jobs=1, oob_score=False, random_state=None,\n",
    "         verbose=0, warm_start=False)"
   ]
  },
  {
   "cell_type": "code",
   "execution_count": 45,
   "metadata": {
    "collapsed": true
   },
   "outputs": [],
   "source": [
    "best_bagging = BaggingRegressor(base_estimator=None, bootstrap=True,\n",
    "         bootstrap_features=False, max_features=200, max_samples=1400,\n",
    "         n_estimators=300, n_jobs=1, oob_score=False, random_state=None,\n",
    "         verbose=0, warm_start=False)"
   ]
  },
  {
   "cell_type": "code",
   "execution_count": 46,
   "metadata": {},
   "outputs": [
    {
     "data": {
      "text/plain": [
       "BaggingRegressor(base_estimator=None, bootstrap=True,\n",
       "         bootstrap_features=False, max_features=200, max_samples=1400,\n",
       "         n_estimators=300, n_jobs=1, oob_score=False, random_state=None,\n",
       "         verbose=0, warm_start=False)"
      ]
     },
     "execution_count": 46,
     "metadata": {},
     "output_type": "execute_result"
    }
   ],
   "source": [
    "best_bagging.fit(data_regressor_train_x, data_regressor_train_y)"
   ]
  },
  {
   "cell_type": "code",
   "execution_count": 47,
   "metadata": {
    "collapsed": true
   },
   "outputs": [],
   "source": [
    "data_regressor_test_x = data_regressor_test.drop(['LotFrontage'], axis = 1)"
   ]
  },
  {
   "cell_type": "code",
   "execution_count": 48,
   "metadata": {},
   "outputs": [],
   "source": [
    "y_pred_regressor = best_bagging.predict(data_regressor_test_x)"
   ]
  },
  {
   "cell_type": "code",
   "execution_count": 49,
   "metadata": {},
   "outputs": [
    {
     "data": {
      "text/plain": [
       "(2433, 269)"
      ]
     },
     "execution_count": 49,
     "metadata": {},
     "output_type": "execute_result"
    }
   ],
   "source": [
    "data_regressor_train_x.shape"
   ]
  },
  {
   "cell_type": "code",
   "execution_count": 50,
   "metadata": {},
   "outputs": [],
   "source": [
    "y_LotFrontage = data_regressor['LotFrontage']"
   ]
  },
  {
   "cell_type": "code",
   "execution_count": 51,
   "metadata": {},
   "outputs": [],
   "source": [
    "y_LotFrontage = y_LotFrontage.fillna(-1)\n",
    "j=0 \n",
    "l=0\n",
    "for i in y_LotFrontage:\n",
    "    if i==-1:\n",
    "        y_LotFrontage[l]=y_pred_regressor[j]\n",
    "        j=j+1\n",
    "    l=l+1"
   ]
  },
  {
   "cell_type": "code",
   "execution_count": 52,
   "metadata": {},
   "outputs": [
    {
     "data": {
      "text/plain": [
       "0"
      ]
     },
     "execution_count": 52,
     "metadata": {},
     "output_type": "execute_result"
    }
   ],
   "source": [
    "y_LotFrontage.isnull().sum()"
   ]
  },
  {
   "cell_type": "code",
   "execution_count": 42,
   "metadata": {
    "collapsed": true
   },
   "outputs": [],
   "source": [
    "y_LotFrontage.to_csv('LotFrontage.csv')"
   ]
  },
  {
   "cell_type": "code",
   "execution_count": 53,
   "metadata": {},
   "outputs": [],
   "source": [
    "name_1 = combined[column_name_with_null_values[1]]"
   ]
  },
  {
   "cell_type": "code",
   "execution_count": 54,
   "metadata": {},
   "outputs": [],
   "source": [
    "from sklearn.preprocessing import LabelEncoder\n",
    "labelencoder_X = LabelEncoder()\n",
    "mask = ~name_1.isnull()\n",
    "name_1[mask] = labelencoder_X.fit_transform(name_1[mask])\n",
    "##name_1.value_counts()"
   ]
  },
  {
   "cell_type": "code",
   "execution_count": 55,
   "metadata": {},
   "outputs": [],
   "source": [
    "data_classifier = pd.concat([data_for_use_without_null_dummy, name_1], axis=1)"
   ]
  },
  {
   "cell_type": "code",
   "execution_count": 56,
   "metadata": {
    "collapsed": true
   },
   "outputs": [],
   "source": [
    "data_classifier_train = data_classifier.dropna(axis = 0)\n",
    "data_classifier_test = data_classifier[data_classifier.isnull().any(axis=1)]"
   ]
  },
  {
   "cell_type": "code",
   "execution_count": 57,
   "metadata": {},
   "outputs": [
    {
     "name": "stdout",
     "output_type": "stream",
     "text": [
      "(1499, 270)\n",
      "(1420, 270)\n"
     ]
    }
   ],
   "source": [
    "print(data_classifier_train.shape)\n",
    "print(data_classifier_test.shape)"
   ]
  },
  {
   "cell_type": "code",
   "execution_count": 58,
   "metadata": {
    "collapsed": true
   },
   "outputs": [],
   "source": [
    "data_classifier_train_x = data_classifier_train.iloc[:, :-1].values\n",
    "data_classifier_train_y = data_classifier_train.iloc[:, 269].values\n",
    "data_classifier_train_y = data_classifier_train_y.astype('int')\n",
    "data_classifier_train_y= data_classifier_train_y. reshape(1499,)"
   ]
  },
  {
   "cell_type": "code",
   "execution_count": 59,
   "metadata": {
    "collapsed": true
   },
   "outputs": [],
   "source": [
    "from sklearn.ensemble import RandomForestClassifier, BaggingClassifier, GradientBoostingClassifier, AdaBoostClassifier\n",
    "from sklearn.svm import SVC\n",
    "from sklearn.neighbors import KNeighborsClassifier\n",
    "from xgboost import XGBClassifier"
   ]
  },
  {
   "cell_type": "code",
   "execution_count": 52,
   "metadata": {},
   "outputs": [
    {
     "name": "stdout",
     "output_type": "stream",
     "text": [
      "0.699145021985\n"
     ]
    }
   ],
   "source": [
    "RandomForestClassifier = RandomForestClassifier()\n",
    "score_RandomForestClassifier = cross_val_score(RandomForestClassifier, data_classifier_train_x, data_classifier_train_y, cv=5, scoring= 'accuracy')\n",
    "RandomForestClassifier = score_RandomForestClassifier.mean()\n",
    "print(RandomForestClassifier)"
   ]
  },
  {
   "cell_type": "code",
   "execution_count": 53,
   "metadata": {},
   "outputs": [
    {
     "name": "stdout",
     "output_type": "stream",
     "text": [
      "0.707125548764\n"
     ]
    }
   ],
   "source": [
    "BaggingClassifier = BaggingClassifier()\n",
    "score_BaggingClassifier = cross_val_score(BaggingClassifier, data_classifier_train_x, data_classifier_train_y, cv=5, scoring= 'accuracy')\n",
    "BaggingClassifier = score_BaggingClassifier.mean()\n",
    "print(BaggingClassifier)"
   ]
  },
  {
   "cell_type": "code",
   "execution_count": 61,
   "metadata": {},
   "outputs": [
    {
     "name": "stdout",
     "output_type": "stream",
     "text": [
      "0.720528644424\n"
     ]
    }
   ],
   "source": [
    "GradientBoostingClassifier = GradientBoostingClassifier()\n",
    "score_GradientBoostingClassifier = cross_val_score(GradientBoostingClassifier, data_classifier_train_x, data_classifier_train_y, cv=5, scoring= 'accuracy')\n",
    "GradientBoostingClassifier = score_GradientBoostingClassifier.mean()\n",
    "print(GradientBoostingClassifier)"
   ]
  },
  {
   "cell_type": "code",
   "execution_count": 55,
   "metadata": {},
   "outputs": [
    {
     "name": "stdout",
     "output_type": "stream",
     "text": [
      "0.43024442754\n"
     ]
    }
   ],
   "source": [
    "AdaBoostClassifier = AdaBoostClassifier()\n",
    "score_AdaBoostClassifier = cross_val_score(AdaBoostClassifier, data_classifier_train_x, data_classifier_train_y, cv=5, scoring= 'accuracy')\n",
    "AdaBoostClassifier = score_AdaBoostClassifier.mean()\n",
    "print(AdaBoostClassifier)"
   ]
  },
  {
   "cell_type": "code",
   "execution_count": 56,
   "metadata": {},
   "outputs": [
    {
     "name": "stdout",
     "output_type": "stream",
     "text": [
      "0.497672122278\n"
     ]
    }
   ],
   "source": [
    "SVC = SVC()\n",
    "score_SVC = cross_val_score(SVC, data_classifier_train_x, data_classifier_train_y, cv=5, scoring= 'accuracy')\n",
    "SVC = score_SVC.mean()\n",
    "print(SVC)"
   ]
  },
  {
   "cell_type": "code",
   "execution_count": 57,
   "metadata": {},
   "outputs": [
    {
     "name": "stdout",
     "output_type": "stream",
     "text": [
      "0.54040422306\n"
     ]
    }
   ],
   "source": [
    "KNeighborsClassifier = KNeighborsClassifier()\n",
    "score_KNeighborsClassifier = cross_val_score(KNeighborsClassifier, data_classifier_train_x, data_classifier_train_y, cv=5, scoring= 'accuracy')\n",
    "KNeighborsClassifier = score_KNeighborsClassifier.mean()\n",
    "print(KNeighborsClassifier)"
   ]
  },
  {
   "cell_type": "code",
   "execution_count": 58,
   "metadata": {},
   "outputs": [
    {
     "name": "stdout",
     "output_type": "stream",
     "text": [
      "0.714532674373\n"
     ]
    }
   ],
   "source": [
    "XGBClassifier = XGBClassifier()\n",
    "score_XGBClassifier = cross_val_score(XGBClassifier, data_classifier_train_x, data_classifier_train_y, cv=5, scoring= 'accuracy')\n",
    "XGBClassifier = score_XGBClassifier.mean()\n",
    "print(XGBClassifier)"
   ]
  },
  {
   "cell_type": "code",
   "execution_count": 60,
   "metadata": {},
   "outputs": [
    {
     "data": {
      "text/plain": [
       "(1499, 269)"
      ]
     },
     "execution_count": 60,
     "metadata": {},
     "output_type": "execute_result"
    }
   ],
   "source": [
    "data_classifier_train_x.shape"
   ]
  },
  {
   "cell_type": "code",
   "execution_count": 61,
   "metadata": {},
   "outputs": [
    {
     "data": {
      "text/plain": [
       "(1499,)"
      ]
     },
     "execution_count": 61,
     "metadata": {},
     "output_type": "execute_result"
    }
   ],
   "source": [
    "data_classifier_train_y.shape"
   ]
  },
  {
   "cell_type": "code",
   "execution_count": 62,
   "metadata": {},
   "outputs": [],
   "source": [
    "data_classifier_train_x_cv, data_classifier_test_x_cv, data_classifier_train_y_cv, data_classifier_test_y_cv = train_test_split(data_classifier_train_x, data_classifier_train_y, test_size=.1, random_state=0)"
   ]
  },
  {
   "cell_type": "code",
   "execution_count": 63,
   "metadata": {},
   "outputs": [
    {
     "name": "stdout",
     "output_type": "stream",
     "text": [
      "(1349, 269)\n",
      "(150, 269)\n",
      "(1349,)\n",
      "(150,)\n"
     ]
    }
   ],
   "source": [
    "print(data_classifier_train_x_cv.shape)\n",
    "print(data_classifier_test_x_cv.shape)\n",
    "print(data_classifier_train_y_cv.shape)\n",
    "print(data_classifier_test_y_cv.shape)"
   ]
  },
  {
   "cell_type": "code",
   "execution_count": 64,
   "metadata": {},
   "outputs": [],
   "source": [
    "from sklearn.metrics import accuracy_score"
   ]
  },
  {
   "cell_type": "code",
   "execution_count": 56,
   "metadata": {},
   "outputs": [],
   "source": [
    "GradientBoostingClassifier1 = GradientBoostingClassifier()"
   ]
  },
  {
   "cell_type": "code",
   "execution_count": 57,
   "metadata": {},
   "outputs": [
    {
     "data": {
      "text/plain": [
       "GradientBoostingClassifier(criterion='friedman_mse', init=None,\n",
       "              learning_rate=0.1, loss='deviance', max_depth=3,\n",
       "              max_features=None, max_leaf_nodes=None,\n",
       "              min_impurity_decrease=0.0, min_impurity_split=None,\n",
       "              min_samples_leaf=1, min_samples_split=2,\n",
       "              min_weight_fraction_leaf=0.0, n_estimators=100,\n",
       "              presort='auto', random_state=None, subsample=1.0, verbose=0,\n",
       "              warm_start=False)"
      ]
     },
     "execution_count": 57,
     "metadata": {},
     "output_type": "execute_result"
    }
   ],
   "source": [
    "GradientBoostingClassifier1.fit(data_classifier_train_x_cv, data_classifier_train_y_cv)"
   ]
  },
  {
   "cell_type": "code",
   "execution_count": 58,
   "metadata": {},
   "outputs": [
    {
     "name": "stdout",
     "output_type": "stream",
     "text": [
      "0.943661971831\n",
      "0.706666666667\n"
     ]
    }
   ],
   "source": [
    "y_train_pred = GradientBoostingClassifier1.predict(data_classifier_train_x_cv)\n",
    "y_test_pred = GradientBoostingClassifier1.predict(data_classifier_test_x_cv)\n",
    "\n",
    "train_error = accuracy_score(y_train_pred, data_classifier_train_y_cv)\n",
    "test_error = accuracy_score(y_test_pred, data_classifier_test_y_cv)\n",
    "\n",
    "print(train_error)\n",
    "print(test_error)"
   ]
  },
  {
   "cell_type": "code",
   "execution_count": 119,
   "metadata": {
    "collapsed": true
   },
   "outputs": [],
   "source": [
    "GradientBoostingClassifier2 = GradientBoostingClassifier(learning_rate=0.2, max_depth=3, n_estimators=50, max_features=150,  max_leaf_nodes=12, min_samples_leaf=5, min_samples_split=15)"
   ]
  },
  {
   "cell_type": "code",
   "execution_count": 123,
   "metadata": {},
   "outputs": [
    {
     "data": {
      "text/plain": [
       "GradientBoostingClassifier(criterion='friedman_mse', init=None,\n",
       "              learning_rate=0.2, loss='deviance', max_depth=3,\n",
       "              max_features=150, max_leaf_nodes=12,\n",
       "              min_impurity_decrease=0.0, min_impurity_split=None,\n",
       "              min_samples_leaf=5, min_samples_split=15,\n",
       "              min_weight_fraction_leaf=0.0, n_estimators=50,\n",
       "              presort='auto', random_state=None, subsample=1.0, verbose=0,\n",
       "              warm_start=False)"
      ]
     },
     "execution_count": 123,
     "metadata": {},
     "output_type": "execute_result"
    }
   ],
   "source": [
    "GradientBoostingClassifier2.fit(data_classifier_train_x_cv, data_classifier_train_y_cv)"
   ]
  },
  {
   "cell_type": "code",
   "execution_count": 124,
   "metadata": {},
   "outputs": [
    {
     "name": "stdout",
     "output_type": "stream",
     "text": [
      "0.97776130467\n",
      "0.753333333333\n"
     ]
    }
   ],
   "source": [
    "y_train_pred = GradientBoostingClassifier2.predict(data_classifier_train_x_cv)\n",
    "y_test_pred = GradientBoostingClassifier2.predict(data_classifier_test_x_cv)\n",
    "\n",
    "train_error = accuracy_score(y_train_pred, data_classifier_train_y_cv)\n",
    "test_error = accuracy_score(y_test_pred, data_classifier_test_y_cv)\n",
    "\n",
    "print(train_error)\n",
    "print(test_error)"
   ]
  },
  {
   "cell_type": "code",
   "execution_count": 73,
   "metadata": {
    "collapsed": true
   },
   "outputs": [],
   "source": [
    "learning_rates = [0.01, 0.05, 0.1, 0.25, 0.5, 1]\n",
    "train_results = []\n",
    "test_results = []"
   ]
  },
  {
   "cell_type": "code",
   "execution_count": 74,
   "metadata": {},
   "outputs": [],
   "source": [
    "for rate in learning_rates:\n",
    "    model = GradientBoostingClassifier(learning_rate = rate)\n",
    "    model.fit(data_classifier_train_x_cv, data_classifier_train_y_cv)\n",
    "    train_pred = model.predict(data_classifier_train_x_cv)\n",
    "    acc_train = accuracy_score(train_pred, data_classifier_train_y_cv)\n",
    "    train_results.append(acc_train)\n",
    "    test_pred = model.predict(data_classifier_test_x_cv)\n",
    "    acc_test = accuracy_score(test_pred, data_classifier_test_y_cv)\n",
    "    test_results.append(acc_test)"
   ]
  },
  {
   "cell_type": "code",
   "execution_count": 75,
   "metadata": {},
   "outputs": [
    {
     "data": {
      "image/png": "[encoded data removed]",
      "text/plain": [
       "<matplotlib.figure.Figure at 0x5d6fbd9320>"
      ]
     },
     "metadata": {},
     "output_type": "display_data"
    }
   ],
   "source": [
    "line1 = plt.plot(learning_rates, train_results, 'b', label='Train accuracy')\n",
    "line2 = plt.plot(learning_rates, test_results, 'r' , label='Test accuracy')\n",
    "plt.ylabel('Accuracy')\n",
    "plt.xlabel('learning rate')\n",
    "plt.legend()\n",
    "plt.show()"
   ]
  },
  {
   "cell_type": "raw",
   "metadata": {},
   "source": [
    "learning_rates = [0.01, 0.05, 0.1, 0.25, 0.5]"
   ]
  },
  {
   "cell_type": "code",
   "execution_count": 68,
   "metadata": {
    "collapsed": true
   },
   "outputs": [],
   "source": [
    "max_depth = [3,4,5,6,7,8,9,10,11,12,13,14,15]\n",
    "train_results = []\n",
    "test_results = []"
   ]
  },
  {
   "cell_type": "code",
   "execution_count": 69,
   "metadata": {
    "collapsed": true
   },
   "outputs": [],
   "source": [
    "for depth in max_depth:\n",
    "    model = GradientBoostingClassifier(max_depth = depth)\n",
    "    model.fit(data_classifier_train_x_cv, data_classifier_train_y_cv)\n",
    "    train_pred = model.predict(data_classifier_train_x_cv)\n",
    "    acc_train = accuracy_score(train_pred, data_classifier_train_y_cv)\n",
    "    train_results.append(acc_train)\n",
    "    test_pred = model.predict(data_classifier_test_x_cv)\n",
    "    acc_test = accuracy_score(test_pred, data_classifier_test_y_cv)\n",
    "    test_results.append(acc_test)"
   ]
  },
  {
   "cell_type": "code",
   "execution_count": 71,
   "metadata": {},
   "outputs": [
    {
     "data": {
      "image/png": "[encoded data removed]",
      "text/plain": [
       "<matplotlib.figure.Figure at 0x5d6ce8f898>"
      ]
     },
     "metadata": {},
     "output_type": "display_data"
    }
   ],
   "source": [
    "line1 = plt.plot(max_depth, train_results, 'b', label='Train accuracy')\n",
    "line2 = plt.plot(max_depth, test_results, 'r' , label='Test accuracy')\n",
    "plt.ylabel('Accuracy')\n",
    "plt.xlabel('Max depth')\n",
    "plt.legend()\n",
    "plt.show()"
   ]
  },
  {
   "cell_type": "raw",
   "metadata": {},
   "source": [
    "max_depth = [3,4,5,6,7,8,10,11,12,13,15]"
   ]
  },
  {
   "cell_type": "code",
   "execution_count": 78,
   "metadata": {},
   "outputs": [],
   "source": [
    "n_estimators = [10, 20, 30, 50, 100, 150, 200, 300, 400, 500]\n",
    "train_results = []\n",
    "test_results = []"
   ]
  },
  {
   "cell_type": "code",
   "execution_count": 79,
   "metadata": {
    "collapsed": true
   },
   "outputs": [],
   "source": [
    "for estimators in n_estimators:\n",
    "    model = GradientBoostingClassifier(n_estimators = estimators)\n",
    "    model.fit(data_classifier_train_x_cv, data_classifier_train_y_cv)\n",
    "    train_pred = model.predict(data_classifier_train_x_cv)\n",
    "    acc_train = accuracy_score(train_pred, data_classifier_train_y_cv)\n",
    "    train_results.append(acc_train)\n",
    "    test_pred = model.predict(data_classifier_test_x_cv)\n",
    "    acc_test = accuracy_score(test_pred, data_classifier_test_y_cv)\n",
    "    test_results.append(acc_test)"
   ]
  },
  {
   "cell_type": "code",
   "execution_count": 80,
   "metadata": {},
   "outputs": [
    {
     "data": {
      "image/png": "[encoded data removed]",
      "text/plain": [
       "<matplotlib.figure.Figure at 0x5d6fc36390>"
      ]
     },
     "metadata": {},
     "output_type": "display_data"
    }
   ],
   "source": [
    "line1 = plt.plot(n_estimators, train_results, 'b', label='Train accuracy')\n",
    "line2 = plt.plot(n_estimators, test_results, 'r' , label='Test accuracy')\n",
    "plt.ylabel('Accuracy')\n",
    "plt.xlabel('n estimators')\n",
    "plt.legend()\n",
    "plt.show()"
   ]
  },
  {
   "cell_type": "raw",
   "metadata": {},
   "source": [
    "n_estimators = [50, 100, 150, 200, 300, 400, 500]"
   ]
  },
  {
   "cell_type": "code",
   "execution_count": 86,
   "metadata": {
    "collapsed": true
   },
   "outputs": [],
   "source": [
    "max_features =  [10, 20, 30, 50, 75, 100, 125, 150, 175, 200]\n",
    "train_results = []\n",
    "test_results = []"
   ]
  },
  {
   "cell_type": "code",
   "execution_count": 87,
   "metadata": {
    "collapsed": true
   },
   "outputs": [],
   "source": [
    "for features in max_features:\n",
    "    model = GradientBoostingClassifier(max_features = features)\n",
    "    model.fit(data_classifier_train_x_cv, data_classifier_train_y_cv)\n",
    "    train_pred = model.predict(data_classifier_train_x_cv)\n",
    "    acc_train = accuracy_score(train_pred, data_classifier_train_y_cv)\n",
    "    train_results.append(acc_train)\n",
    "    test_pred = model.predict(data_classifier_test_x_cv)\n",
    "    acc_test = accuracy_score(test_pred, data_classifier_test_y_cv)\n",
    "    test_results.append(acc_test)"
   ]
  },
  {
   "cell_type": "code",
   "execution_count": 88,
   "metadata": {},
   "outputs": [
    {
     "data": {
      "image/png": "[encoded data removed]",
      "text/plain": [
       "<matplotlib.figure.Figure at 0x5d6d8558d0>"
      ]
     },
     "metadata": {},
     "output_type": "display_data"
    }
   ],
   "source": [
    "line1 = plt.plot(max_features, train_results, 'b', label='Train accuracy')\n",
    "line2 = plt.plot(max_features, test_results, 'r' , label='Test accuracy')\n",
    "plt.ylabel('Accuracy')\n",
    "plt.xlabel('Max features')\n",
    "plt.legend()\n",
    "plt.show()"
   ]
  },
  {
   "cell_type": "raw",
   "metadata": {},
   "source": [
    "max_features = [10, 20, 30, 50, 75, 100]"
   ]
  },
  {
   "cell_type": "code",
   "execution_count": 91,
   "metadata": {
    "collapsed": true
   },
   "outputs": [],
   "source": [
    "max_leaf_nodes = [4, 8, 12, 16, 20, 24, 28, 32]\n",
    "train_results = []\n",
    "test_results = []"
   ]
  },
  {
   "cell_type": "code",
   "execution_count": 92,
   "metadata": {
    "collapsed": true
   },
   "outputs": [],
   "source": [
    "for leaf_nodes in max_leaf_nodes:\n",
    "    model = GradientBoostingClassifier(max_leaf_nodes = leaf_nodes)\n",
    "    model.fit(data_classifier_train_x_cv, data_classifier_train_y_cv)\n",
    "    train_pred = model.predict(data_classifier_train_x_cv)\n",
    "    acc_train = accuracy_score(train_pred, data_classifier_train_y_cv)\n",
    "    train_results.append(acc_train)\n",
    "    test_pred = model.predict(data_classifier_test_x_cv)\n",
    "    acc_test = accuracy_score(test_pred, data_classifier_test_y_cv)\n",
    "    test_results.append(acc_test)"
   ]
  },
  {
   "cell_type": "code",
   "execution_count": 94,
   "metadata": {},
   "outputs": [
    {
     "data": {
      "image/png": "[encoded data removed]",
      "text/plain": [
       "<matplotlib.figure.Figure at 0x5d6fbd4da0>"
      ]
     },
     "metadata": {},
     "output_type": "display_data"
    }
   ],
   "source": [
    "line1 = plt.plot(max_leaf_nodes, train_results, 'b', label='Train accuracy')\n",
    "line2 = plt.plot(max_leaf_nodes, test_results, 'r' , label='Test accuracy')\n",
    "plt.ylabel('Accuracy')\n",
    "plt.xlabel('Max leaf nodes')\n",
    "plt.legend()\n",
    "plt.show()"
   ]
  },
  {
   "cell_type": "raw",
   "metadata": {},
   "source": [
    "max_leaf_nodes = [4, 16, 20, 24, 28, 32]"
   ]
  },
  {
   "cell_type": "code",
   "execution_count": 95,
   "metadata": {
    "collapsed": true
   },
   "outputs": [],
   "source": [
    "min_samples_leaf = [1, 2, 3, 4, 5, 6, 7, 8, 9, 10]\n",
    "train_results = []\n",
    "test_results = []"
   ]
  },
  {
   "cell_type": "code",
   "execution_count": 96,
   "metadata": {
    "collapsed": true
   },
   "outputs": [],
   "source": [
    "for samples_leaf in min_samples_leaf:\n",
    "    model = GradientBoostingClassifier(min_samples_leaf = samples_leaf)\n",
    "    model.fit(data_classifier_train_x_cv, data_classifier_train_y_cv)\n",
    "    train_pred = model.predict(data_classifier_train_x_cv)\n",
    "    acc_train = accuracy_score(train_pred, data_classifier_train_y_cv)\n",
    "    train_results.append(acc_train)\n",
    "    test_pred = model.predict(data_classifier_test_x_cv)\n",
    "    acc_test = accuracy_score(test_pred, data_classifier_test_y_cv)\n",
    "    test_results.append(acc_test)"
   ]
  },
  {
   "cell_type": "code",
   "execution_count": 97,
   "metadata": {},
   "outputs": [
    {
     "data": {
      "image/png": "[encoded data removed]",
      "text/plain": [
       "<matplotlib.figure.Figure at 0x5d6eaf9198>"
      ]
     },
     "metadata": {},
     "output_type": "display_data"
    }
   ],
   "source": [
    "line1 = plt.plot(min_samples_leaf, train_results, 'b', label='Train accuracy')\n",
    "line2 = plt.plot(min_samples_leaf, test_results, 'r' , label='Test accuracy')\n",
    "plt.ylabel('Accuracy')\n",
    "plt.xlabel('Min samples leaf')\n",
    "plt.legend()\n",
    "plt.show()"
   ]
  },
  {
   "cell_type": "raw",
   "metadata": {},
   "source": [
    "min_samples_leaf = [ 3, 5, 6, 7, 8, 9, 10]"
   ]
  },
  {
   "cell_type": "code",
   "execution_count": 98,
   "metadata": {
    "collapsed": true
   },
   "outputs": [],
   "source": [
    "min_samples_split = [2, 3, 4, 5, 6, 7, 8, 9, 10, 11, 12, 13, 14, 15, 16, 17, 18, 19, 20]\n",
    "train_results = []\n",
    "test_results = []"
   ]
  },
  {
   "cell_type": "code",
   "execution_count": 99,
   "metadata": {
    "collapsed": true
   },
   "outputs": [],
   "source": [
    "for samples_split in min_samples_split:\n",
    "    model = GradientBoostingClassifier(min_samples_split = samples_split)\n",
    "    model.fit(data_classifier_train_x_cv, data_classifier_train_y_cv)\n",
    "    train_pred = model.predict(data_classifier_train_x_cv)\n",
    "    acc_train = accuracy_score(train_pred, data_classifier_train_y_cv)\n",
    "    train_results.append(acc_train)\n",
    "    test_pred = model.predict(data_classifier_test_x_cv)\n",
    "    acc_test = accuracy_score(test_pred, data_classifier_test_y_cv)\n",
    "    test_results.append(acc_test)"
   ]
  },
  {
   "cell_type": "code",
   "execution_count": 100,
   "metadata": {},
   "outputs": [
    {
     "data": {
      "image/png": "[encoded data removed]",
      "text/plain": [
       "<matplotlib.figure.Figure at 0x5d6fcc4ac8>"
      ]
     },
     "metadata": {},
     "output_type": "display_data"
    }
   ],
   "source": [
    "line1 = plt.plot(min_samples_split, train_results, 'b', label='Train accuracy')\n",
    "line2 = plt.plot(min_samples_split, test_results, 'r' , label='Test accuracy')\n",
    "plt.ylabel('Accuracy')\n",
    "plt.xlabel('Min samples leaf')\n",
    "plt.legend()\n",
    "plt.show()"
   ]
  },
  {
   "cell_type": "raw",
   "metadata": {},
   "source": [
    "min_samples_split = [3, 5, 7, 8, 9, 11, 13, 14, 15, 16, 17, 19, 20]"
   ]
  },
  {
   "cell_type": "code",
   "execution_count": 65,
   "metadata": {},
   "outputs": [],
   "source": [
    "Params_classifier = {\n",
    "                        \"learning_rate\" : [0.01, 0.05, 0.1, 0.25, 0.5], \n",
    "                        \"max_depth\" : [3,4,5,6,7,8,10,11,12,13,15],\n",
    "                        \"n_estimators\" : [50, 100, 150, 200, 300, 400, 500],\n",
    "                        \"max_features\" : [10, 20, 30, 50, 75, 100],  \n",
    "                        \"max_leaf_nodes\" : [4, 16, 20, 24, 28, 32], \n",
    "                        \"min_samples_leaf\" : [3, 5, 6, 7, 8, 9, 10], \n",
    "                        \"min_samples_split\" : [3, 5, 7, 8, 9, 11, 13, 14, 15, 16, 17, 19, 20]\n",
    "                    }"
   ]
  },
  {
   "cell_type": "code",
   "execution_count": null,
   "metadata": {
    "collapsed": true
   },
   "outputs": [],
   "source": []
  },
  {
   "cell_type": "code",
   "execution_count": null,
   "metadata": {},
   "outputs": [],
   "source": []
  },
  {
   "cell_type": "code",
   "execution_count": 66,
   "metadata": {
    "collapsed": true
   },
   "outputs": [],
   "source": [
    "GradientBoostingClassifier_cv = GradientBoostingClassifier()"
   ]
  },
  {
   "cell_type": "code",
   "execution_count": 67,
   "metadata": {
    "collapsed": true
   },
   "outputs": [],
   "source": [
    "from sklearn.model_selection import RandomizedSearchCV"
   ]
  },
  {
   "cell_type": "code",
   "execution_count": 68,
   "metadata": {
    "collapsed": true
   },
   "outputs": [],
   "source": [
    "RandomizedSearch_GradientBoostingClassifier = RandomizedSearchCV(estimator = GradientBoostingClassifier_cv, param_distributions = Params_classifier, n_iter=100, scoring='accuracy', cv=10)"
   ]
  },
  {
   "cell_type": "code",
   "execution_count": 69,
   "metadata": {},
   "outputs": [
    {
     "data": {
      "text/plain": [
       "RandomizedSearchCV(cv=10, error_score='raise',\n",
       "          estimator=GradientBoostingClassifier(criterion='friedman_mse', init=None,\n",
       "              learning_rate=0.1, loss='deviance', max_depth=3,\n",
       "              max_features=None, max_leaf_nodes=None,\n",
       "              min_impurity_decrease=0.0, min_impurity_split=None,\n",
       "              min_samples_leaf=1, min_samples_split=2,\n",
       "              min_weight_fraction_leaf=0.0, n_estimators=100,\n",
       "              presort='auto', random_state=None, subsample=1.0, verbose=0,\n",
       "              warm_start=False),\n",
       "          fit_params=None, iid=True, n_iter=100, n_jobs=1,\n",
       "          param_distributions={'min_samples_split': [3, 5, 7, 8, 9, 11, 13, 14, 15, 16, 17, 19, 20], 'min_samples_leaf': [3, 5, 6, 7, 8, 9, 10], 'max_depth': [3, 4, 5, 6, 7, 8, 10, 11, 12, 13, 15], 'n_estimators': [50, 100, 150, 200, 300, 400, 500], 'max_leaf_nodes': [4, 16, 20, 24, 28, 32], 'learning_rate': [0.01, 0.05, 0.1, 0.25, 0.5], 'max_features': [10, 20, 30, 50, 75, 100]},\n",
       "          pre_dispatch='2*n_jobs', random_state=None, refit=True,\n",
       "          return_train_score=True, scoring='accuracy', verbose=0)"
      ]
     },
     "execution_count": 69,
     "metadata": {},
     "output_type": "execute_result"
    }
   ],
   "source": [
    "RandomizedSearch_GradientBoostingClassifier.fit(data_classifier_train_x, data_classifier_train_y)"
   ]
  },
  {
   "cell_type": "code",
   "execution_count": 70,
   "metadata": {},
   "outputs": [
    {
     "data": {
      "text/plain": [
       "GradientBoostingClassifier(criterion='friedman_mse', init=None,\n",
       "              learning_rate=0.05, loss='deviance', max_depth=6,\n",
       "              max_features=75, max_leaf_nodes=20,\n",
       "              min_impurity_decrease=0.0, min_impurity_split=None,\n",
       "              min_samples_leaf=5, min_samples_split=9,\n",
       "              min_weight_fraction_leaf=0.0, n_estimators=100,\n",
       "              presort='auto', random_state=None, subsample=1.0, verbose=0,\n",
       "              warm_start=False)"
      ]
     },
     "execution_count": 70,
     "metadata": {},
     "output_type": "execute_result"
    }
   ],
   "source": [
    "RandomizedSearch_GradientBoostingClassifier.best_estimator_"
   ]
  },
  {
   "cell_type": "code",
   "execution_count": null,
   "metadata": {
    "collapsed": true
   },
   "outputs": [],
   "source": []
  }
 ],
 "metadata": {
  "anaconda-cloud": {},
  "kernelspec": {
   "display_name": "Python 3",
   "language": "python",
   "name": "python3"
  },
  "language_info": {
   "codemirror_mode": {
    "name": "ipython",
    "version": 3
   },
   "file_extension": ".py",
   "mimetype": "text/x-python",
   "name": "python",
   "nbconvert_exporter": "python",
   "pygments_lexer": "ipython3",
   "version": "3.8.8"
  }
 },
 "nbformat": 4,
 "nbformat_minor": 1
}
